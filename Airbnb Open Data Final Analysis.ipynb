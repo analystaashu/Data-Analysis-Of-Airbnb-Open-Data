{
 "cells": [
  {
   "cell_type": "markdown",
   "id": "66b24b9c",
   "metadata": {},
   "source": [
    "# AirBnb Open Data Analysis"
   ]
  },
  {
   "cell_type": "code",
   "execution_count": 1,
   "id": "13ffc237",
   "metadata": {},
   "outputs": [],
   "source": [
    "#import all libraries\n",
    "import numpy as np\n",
    "import pandas as pd\n",
    "import matplotlib.pyplot as plt\n",
    "import seaborn as sns\n",
    "import warnings as war\n",
    "war.filterwarnings('ignore')"
   ]
  },
  {
   "cell_type": "code",
   "execution_count": 2,
   "id": "3f9d3500",
   "metadata": {},
   "outputs": [
    {
     "data": {
      "text/html": [
       "<div>\n",
       "<style scoped>\n",
       "    .dataframe tbody tr th:only-of-type {\n",
       "        vertical-align: middle;\n",
       "    }\n",
       "\n",
       "    .dataframe tbody tr th {\n",
       "        vertical-align: top;\n",
       "    }\n",
       "\n",
       "    .dataframe thead th {\n",
       "        text-align: right;\n",
       "    }\n",
       "</style>\n",
       "<table border=\"1\" class=\"dataframe\">\n",
       "  <thead>\n",
       "    <tr style=\"text-align: right;\">\n",
       "      <th></th>\n",
       "      <th>id</th>\n",
       "      <th>NAME</th>\n",
       "      <th>host id</th>\n",
       "      <th>host_identity_verified</th>\n",
       "      <th>host name</th>\n",
       "      <th>neighbourhood group</th>\n",
       "      <th>neighbourhood</th>\n",
       "      <th>lat</th>\n",
       "      <th>long</th>\n",
       "      <th>country</th>\n",
       "      <th>...</th>\n",
       "      <th>service fee</th>\n",
       "      <th>minimum nights</th>\n",
       "      <th>number of reviews</th>\n",
       "      <th>last review</th>\n",
       "      <th>reviews per month</th>\n",
       "      <th>review rate number</th>\n",
       "      <th>calculated host listings count</th>\n",
       "      <th>availability 365</th>\n",
       "      <th>house_rules</th>\n",
       "      <th>license</th>\n",
       "    </tr>\n",
       "  </thead>\n",
       "  <tbody>\n",
       "    <tr>\n",
       "      <th>0</th>\n",
       "      <td>1001254</td>\n",
       "      <td>Clean &amp; quiet apt home by the park</td>\n",
       "      <td>80014485718</td>\n",
       "      <td>unconfirmed</td>\n",
       "      <td>Madaline</td>\n",
       "      <td>Brooklyn</td>\n",
       "      <td>Kensington</td>\n",
       "      <td>40.64749</td>\n",
       "      <td>-73.97237</td>\n",
       "      <td>United States</td>\n",
       "      <td>...</td>\n",
       "      <td>$193</td>\n",
       "      <td>10.0</td>\n",
       "      <td>9.0</td>\n",
       "      <td>10/19/2021</td>\n",
       "      <td>0.21</td>\n",
       "      <td>4.0</td>\n",
       "      <td>6.0</td>\n",
       "      <td>286.0</td>\n",
       "      <td>Clean up and treat the home the way you'd like...</td>\n",
       "      <td>NaN</td>\n",
       "    </tr>\n",
       "    <tr>\n",
       "      <th>1</th>\n",
       "      <td>1002102</td>\n",
       "      <td>Skylit Midtown Castle</td>\n",
       "      <td>52335172823</td>\n",
       "      <td>verified</td>\n",
       "      <td>Jenna</td>\n",
       "      <td>Manhattan</td>\n",
       "      <td>Midtown</td>\n",
       "      <td>40.75362</td>\n",
       "      <td>-73.98377</td>\n",
       "      <td>United States</td>\n",
       "      <td>...</td>\n",
       "      <td>$28</td>\n",
       "      <td>30.0</td>\n",
       "      <td>45.0</td>\n",
       "      <td>5/21/2022</td>\n",
       "      <td>0.38</td>\n",
       "      <td>4.0</td>\n",
       "      <td>2.0</td>\n",
       "      <td>228.0</td>\n",
       "      <td>Pet friendly but please confirm with me if the...</td>\n",
       "      <td>NaN</td>\n",
       "    </tr>\n",
       "    <tr>\n",
       "      <th>2</th>\n",
       "      <td>1002403</td>\n",
       "      <td>THE VILLAGE OF HARLEM....NEW YORK !</td>\n",
       "      <td>78829239556</td>\n",
       "      <td>NaN</td>\n",
       "      <td>Elise</td>\n",
       "      <td>Manhattan</td>\n",
       "      <td>Harlem</td>\n",
       "      <td>40.80902</td>\n",
       "      <td>-73.94190</td>\n",
       "      <td>United States</td>\n",
       "      <td>...</td>\n",
       "      <td>$124</td>\n",
       "      <td>3.0</td>\n",
       "      <td>0.0</td>\n",
       "      <td>NaN</td>\n",
       "      <td>NaN</td>\n",
       "      <td>5.0</td>\n",
       "      <td>1.0</td>\n",
       "      <td>352.0</td>\n",
       "      <td>I encourage you to use my kitchen, cooking and...</td>\n",
       "      <td>NaN</td>\n",
       "    </tr>\n",
       "    <tr>\n",
       "      <th>3</th>\n",
       "      <td>1002755</td>\n",
       "      <td>NaN</td>\n",
       "      <td>85098326012</td>\n",
       "      <td>unconfirmed</td>\n",
       "      <td>Garry</td>\n",
       "      <td>Brooklyn</td>\n",
       "      <td>Clinton Hill</td>\n",
       "      <td>40.68514</td>\n",
       "      <td>-73.95976</td>\n",
       "      <td>United States</td>\n",
       "      <td>...</td>\n",
       "      <td>$74</td>\n",
       "      <td>30.0</td>\n",
       "      <td>270.0</td>\n",
       "      <td>7/5/2019</td>\n",
       "      <td>4.64</td>\n",
       "      <td>4.0</td>\n",
       "      <td>1.0</td>\n",
       "      <td>322.0</td>\n",
       "      <td>NaN</td>\n",
       "      <td>NaN</td>\n",
       "    </tr>\n",
       "    <tr>\n",
       "      <th>4</th>\n",
       "      <td>1003689</td>\n",
       "      <td>Entire Apt: Spacious Studio/Loft by central park</td>\n",
       "      <td>92037596077</td>\n",
       "      <td>verified</td>\n",
       "      <td>Lyndon</td>\n",
       "      <td>Manhattan</td>\n",
       "      <td>East Harlem</td>\n",
       "      <td>40.79851</td>\n",
       "      <td>-73.94399</td>\n",
       "      <td>United States</td>\n",
       "      <td>...</td>\n",
       "      <td>$41</td>\n",
       "      <td>10.0</td>\n",
       "      <td>9.0</td>\n",
       "      <td>11/19/2018</td>\n",
       "      <td>0.10</td>\n",
       "      <td>3.0</td>\n",
       "      <td>1.0</td>\n",
       "      <td>289.0</td>\n",
       "      <td>Please no smoking in the house, porch or on th...</td>\n",
       "      <td>NaN</td>\n",
       "    </tr>\n",
       "  </tbody>\n",
       "</table>\n",
       "<p>5 rows × 26 columns</p>\n",
       "</div>"
      ],
      "text/plain": [
       "        id                                              NAME      host id  \\\n",
       "0  1001254                Clean & quiet apt home by the park  80014485718   \n",
       "1  1002102                             Skylit Midtown Castle  52335172823   \n",
       "2  1002403               THE VILLAGE OF HARLEM....NEW YORK !  78829239556   \n",
       "3  1002755                                               NaN  85098326012   \n",
       "4  1003689  Entire Apt: Spacious Studio/Loft by central park  92037596077   \n",
       "\n",
       "  host_identity_verified host name neighbourhood group neighbourhood  \\\n",
       "0            unconfirmed  Madaline            Brooklyn    Kensington   \n",
       "1               verified     Jenna           Manhattan       Midtown   \n",
       "2                    NaN     Elise           Manhattan        Harlem   \n",
       "3            unconfirmed     Garry            Brooklyn  Clinton Hill   \n",
       "4               verified    Lyndon           Manhattan   East Harlem   \n",
       "\n",
       "        lat      long        country  ... service fee minimum nights  \\\n",
       "0  40.64749 -73.97237  United States  ...       $193            10.0   \n",
       "1  40.75362 -73.98377  United States  ...        $28            30.0   \n",
       "2  40.80902 -73.94190  United States  ...       $124             3.0   \n",
       "3  40.68514 -73.95976  United States  ...        $74            30.0   \n",
       "4  40.79851 -73.94399  United States  ...        $41            10.0   \n",
       "\n",
       "  number of reviews last review  reviews per month review rate number  \\\n",
       "0               9.0  10/19/2021               0.21                4.0   \n",
       "1              45.0   5/21/2022               0.38                4.0   \n",
       "2               0.0         NaN                NaN                5.0   \n",
       "3             270.0    7/5/2019               4.64                4.0   \n",
       "4               9.0  11/19/2018               0.10                3.0   \n",
       "\n",
       "  calculated host listings count  availability 365  \\\n",
       "0                            6.0             286.0   \n",
       "1                            2.0             228.0   \n",
       "2                            1.0             352.0   \n",
       "3                            1.0             322.0   \n",
       "4                            1.0             289.0   \n",
       "\n",
       "                                         house_rules license  \n",
       "0  Clean up and treat the home the way you'd like...     NaN  \n",
       "1  Pet friendly but please confirm with me if the...     NaN  \n",
       "2  I encourage you to use my kitchen, cooking and...     NaN  \n",
       "3                                                NaN     NaN  \n",
       "4  Please no smoking in the house, porch or on th...     NaN  \n",
       "\n",
       "[5 rows x 26 columns]"
      ]
     },
     "execution_count": 2,
     "metadata": {},
     "output_type": "execute_result"
    }
   ],
   "source": [
    "df=pd.read_csv('Airbnb_Open_Data.csv.')\n",
    "df.head()"
   ]
  },
  {
   "cell_type": "code",
   "execution_count": 3,
   "id": "d7b5efe7",
   "metadata": {},
   "outputs": [
    {
     "name": "stdout",
     "output_type": "stream",
     "text": [
      "<class 'pandas.core.frame.DataFrame'>\n",
      "RangeIndex: 102599 entries, 0 to 102598\n",
      "Data columns (total 26 columns):\n",
      " #   Column                          Non-Null Count   Dtype  \n",
      "---  ------                          --------------   -----  \n",
      " 0   id                              102599 non-null  int64  \n",
      " 1   NAME                            102349 non-null  object \n",
      " 2   host id                         102599 non-null  int64  \n",
      " 3   host_identity_verified          102310 non-null  object \n",
      " 4   host name                       102193 non-null  object \n",
      " 5   neighbourhood group             102570 non-null  object \n",
      " 6   neighbourhood                   102583 non-null  object \n",
      " 7   lat                             102591 non-null  float64\n",
      " 8   long                            102591 non-null  float64\n",
      " 9   country                         102067 non-null  object \n",
      " 10  country code                    102468 non-null  object \n",
      " 11  instant_bookable                102494 non-null  object \n",
      " 12  cancellation_policy             102523 non-null  object \n",
      " 13  room type                       102599 non-null  object \n",
      " 14  Construction year               102385 non-null  float64\n",
      " 15  price                           102352 non-null  object \n",
      " 16  service fee                     102326 non-null  object \n",
      " 17  minimum nights                  102190 non-null  float64\n",
      " 18  number of reviews               102416 non-null  float64\n",
      " 19  last review                     86706 non-null   object \n",
      " 20  reviews per month               86720 non-null   float64\n",
      " 21  review rate number              102273 non-null  float64\n",
      " 22  calculated host listings count  102280 non-null  float64\n",
      " 23  availability 365                102151 non-null  float64\n",
      " 24  house_rules                     50468 non-null   object \n",
      " 25  license                         2 non-null       object \n",
      "dtypes: float64(9), int64(2), object(15)\n",
      "memory usage: 20.4+ MB\n"
     ]
    }
   ],
   "source": [
    "df.info()"
   ]
  },
  {
   "cell_type": "code",
   "execution_count": 4,
   "id": "2b5eae91",
   "metadata": {},
   "outputs": [
    {
     "data": {
      "text/html": [
       "<div>\n",
       "<style scoped>\n",
       "    .dataframe tbody tr th:only-of-type {\n",
       "        vertical-align: middle;\n",
       "    }\n",
       "\n",
       "    .dataframe tbody tr th {\n",
       "        vertical-align: top;\n",
       "    }\n",
       "\n",
       "    .dataframe thead th {\n",
       "        text-align: right;\n",
       "    }\n",
       "</style>\n",
       "<table border=\"1\" class=\"dataframe\">\n",
       "  <thead>\n",
       "    <tr style=\"text-align: right;\">\n",
       "      <th></th>\n",
       "      <th>id</th>\n",
       "      <th>host id</th>\n",
       "      <th>lat</th>\n",
       "      <th>long</th>\n",
       "      <th>Construction year</th>\n",
       "      <th>minimum nights</th>\n",
       "      <th>number of reviews</th>\n",
       "      <th>reviews per month</th>\n",
       "      <th>review rate number</th>\n",
       "      <th>calculated host listings count</th>\n",
       "      <th>availability 365</th>\n",
       "    </tr>\n",
       "  </thead>\n",
       "  <tbody>\n",
       "    <tr>\n",
       "      <th>count</th>\n",
       "      <td>1.025990e+05</td>\n",
       "      <td>1.025990e+05</td>\n",
       "      <td>102591.000000</td>\n",
       "      <td>102591.000000</td>\n",
       "      <td>102385.000000</td>\n",
       "      <td>102190.000000</td>\n",
       "      <td>102416.000000</td>\n",
       "      <td>86720.000000</td>\n",
       "      <td>102273.000000</td>\n",
       "      <td>102280.000000</td>\n",
       "      <td>102151.000000</td>\n",
       "    </tr>\n",
       "    <tr>\n",
       "      <th>mean</th>\n",
       "      <td>2.914623e+07</td>\n",
       "      <td>4.925411e+10</td>\n",
       "      <td>40.728094</td>\n",
       "      <td>-73.949644</td>\n",
       "      <td>2012.487464</td>\n",
       "      <td>8.135845</td>\n",
       "      <td>27.483743</td>\n",
       "      <td>1.374022</td>\n",
       "      <td>3.279106</td>\n",
       "      <td>7.936605</td>\n",
       "      <td>141.133254</td>\n",
       "    </tr>\n",
       "    <tr>\n",
       "      <th>std</th>\n",
       "      <td>1.625751e+07</td>\n",
       "      <td>2.853900e+10</td>\n",
       "      <td>0.055857</td>\n",
       "      <td>0.049521</td>\n",
       "      <td>5.765556</td>\n",
       "      <td>30.553781</td>\n",
       "      <td>49.508954</td>\n",
       "      <td>1.746621</td>\n",
       "      <td>1.284657</td>\n",
       "      <td>32.218780</td>\n",
       "      <td>135.435024</td>\n",
       "    </tr>\n",
       "    <tr>\n",
       "      <th>min</th>\n",
       "      <td>1.001254e+06</td>\n",
       "      <td>1.236005e+08</td>\n",
       "      <td>40.499790</td>\n",
       "      <td>-74.249840</td>\n",
       "      <td>2003.000000</td>\n",
       "      <td>-1223.000000</td>\n",
       "      <td>0.000000</td>\n",
       "      <td>0.010000</td>\n",
       "      <td>1.000000</td>\n",
       "      <td>1.000000</td>\n",
       "      <td>-10.000000</td>\n",
       "    </tr>\n",
       "    <tr>\n",
       "      <th>25%</th>\n",
       "      <td>1.508581e+07</td>\n",
       "      <td>2.458333e+10</td>\n",
       "      <td>40.688740</td>\n",
       "      <td>-73.982580</td>\n",
       "      <td>2007.000000</td>\n",
       "      <td>2.000000</td>\n",
       "      <td>1.000000</td>\n",
       "      <td>0.220000</td>\n",
       "      <td>2.000000</td>\n",
       "      <td>1.000000</td>\n",
       "      <td>3.000000</td>\n",
       "    </tr>\n",
       "    <tr>\n",
       "      <th>50%</th>\n",
       "      <td>2.913660e+07</td>\n",
       "      <td>4.911774e+10</td>\n",
       "      <td>40.722290</td>\n",
       "      <td>-73.954440</td>\n",
       "      <td>2012.000000</td>\n",
       "      <td>3.000000</td>\n",
       "      <td>7.000000</td>\n",
       "      <td>0.740000</td>\n",
       "      <td>3.000000</td>\n",
       "      <td>1.000000</td>\n",
       "      <td>96.000000</td>\n",
       "    </tr>\n",
       "    <tr>\n",
       "      <th>75%</th>\n",
       "      <td>4.320120e+07</td>\n",
       "      <td>7.399650e+10</td>\n",
       "      <td>40.762760</td>\n",
       "      <td>-73.932350</td>\n",
       "      <td>2017.000000</td>\n",
       "      <td>5.000000</td>\n",
       "      <td>30.000000</td>\n",
       "      <td>2.000000</td>\n",
       "      <td>4.000000</td>\n",
       "      <td>2.000000</td>\n",
       "      <td>269.000000</td>\n",
       "    </tr>\n",
       "    <tr>\n",
       "      <th>max</th>\n",
       "      <td>5.736742e+07</td>\n",
       "      <td>9.876313e+10</td>\n",
       "      <td>40.916970</td>\n",
       "      <td>-73.705220</td>\n",
       "      <td>2022.000000</td>\n",
       "      <td>5645.000000</td>\n",
       "      <td>1024.000000</td>\n",
       "      <td>90.000000</td>\n",
       "      <td>5.000000</td>\n",
       "      <td>332.000000</td>\n",
       "      <td>3677.000000</td>\n",
       "    </tr>\n",
       "  </tbody>\n",
       "</table>\n",
       "</div>"
      ],
      "text/plain": [
       "                 id       host id            lat           long  \\\n",
       "count  1.025990e+05  1.025990e+05  102591.000000  102591.000000   \n",
       "mean   2.914623e+07  4.925411e+10      40.728094     -73.949644   \n",
       "std    1.625751e+07  2.853900e+10       0.055857       0.049521   \n",
       "min    1.001254e+06  1.236005e+08      40.499790     -74.249840   \n",
       "25%    1.508581e+07  2.458333e+10      40.688740     -73.982580   \n",
       "50%    2.913660e+07  4.911774e+10      40.722290     -73.954440   \n",
       "75%    4.320120e+07  7.399650e+10      40.762760     -73.932350   \n",
       "max    5.736742e+07  9.876313e+10      40.916970     -73.705220   \n",
       "\n",
       "       Construction year  minimum nights  number of reviews  \\\n",
       "count      102385.000000   102190.000000      102416.000000   \n",
       "mean         2012.487464        8.135845          27.483743   \n",
       "std             5.765556       30.553781          49.508954   \n",
       "min          2003.000000    -1223.000000           0.000000   \n",
       "25%          2007.000000        2.000000           1.000000   \n",
       "50%          2012.000000        3.000000           7.000000   \n",
       "75%          2017.000000        5.000000          30.000000   \n",
       "max          2022.000000     5645.000000        1024.000000   \n",
       "\n",
       "       reviews per month  review rate number  calculated host listings count  \\\n",
       "count       86720.000000       102273.000000                   102280.000000   \n",
       "mean            1.374022            3.279106                        7.936605   \n",
       "std             1.746621            1.284657                       32.218780   \n",
       "min             0.010000            1.000000                        1.000000   \n",
       "25%             0.220000            2.000000                        1.000000   \n",
       "50%             0.740000            3.000000                        1.000000   \n",
       "75%             2.000000            4.000000                        2.000000   \n",
       "max            90.000000            5.000000                      332.000000   \n",
       "\n",
       "       availability 365  \n",
       "count     102151.000000  \n",
       "mean         141.133254  \n",
       "std          135.435024  \n",
       "min          -10.000000  \n",
       "25%            3.000000  \n",
       "50%           96.000000  \n",
       "75%          269.000000  \n",
       "max         3677.000000  "
      ]
     },
     "execution_count": 4,
     "metadata": {},
     "output_type": "execute_result"
    }
   ],
   "source": [
    "df.describe()"
   ]
  },
  {
   "cell_type": "code",
   "execution_count": 5,
   "id": "4d567c0a",
   "metadata": {},
   "outputs": [
    {
     "data": {
      "text/html": [
       "<div>\n",
       "<style scoped>\n",
       "    .dataframe tbody tr th:only-of-type {\n",
       "        vertical-align: middle;\n",
       "    }\n",
       "\n",
       "    .dataframe tbody tr th {\n",
       "        vertical-align: top;\n",
       "    }\n",
       "\n",
       "    .dataframe thead th {\n",
       "        text-align: right;\n",
       "    }\n",
       "</style>\n",
       "<table border=\"1\" class=\"dataframe\">\n",
       "  <thead>\n",
       "    <tr style=\"text-align: right;\">\n",
       "      <th></th>\n",
       "      <th>NAME</th>\n",
       "      <th>host_identity_verified</th>\n",
       "      <th>host name</th>\n",
       "      <th>neighbourhood group</th>\n",
       "      <th>neighbourhood</th>\n",
       "      <th>country</th>\n",
       "      <th>country code</th>\n",
       "      <th>instant_bookable</th>\n",
       "      <th>cancellation_policy</th>\n",
       "      <th>room type</th>\n",
       "      <th>price</th>\n",
       "      <th>service fee</th>\n",
       "      <th>last review</th>\n",
       "      <th>house_rules</th>\n",
       "      <th>license</th>\n",
       "    </tr>\n",
       "  </thead>\n",
       "  <tbody>\n",
       "    <tr>\n",
       "      <th>count</th>\n",
       "      <td>102349</td>\n",
       "      <td>102310</td>\n",
       "      <td>102193</td>\n",
       "      <td>102570</td>\n",
       "      <td>102583</td>\n",
       "      <td>102067</td>\n",
       "      <td>102468</td>\n",
       "      <td>102494</td>\n",
       "      <td>102523</td>\n",
       "      <td>102599</td>\n",
       "      <td>102352</td>\n",
       "      <td>102326</td>\n",
       "      <td>86706</td>\n",
       "      <td>50468</td>\n",
       "      <td>2</td>\n",
       "    </tr>\n",
       "    <tr>\n",
       "      <th>unique</th>\n",
       "      <td>61281</td>\n",
       "      <td>2</td>\n",
       "      <td>13190</td>\n",
       "      <td>7</td>\n",
       "      <td>224</td>\n",
       "      <td>1</td>\n",
       "      <td>1</td>\n",
       "      <td>2</td>\n",
       "      <td>3</td>\n",
       "      <td>4</td>\n",
       "      <td>1151</td>\n",
       "      <td>231</td>\n",
       "      <td>2477</td>\n",
       "      <td>1976</td>\n",
       "      <td>1</td>\n",
       "    </tr>\n",
       "    <tr>\n",
       "      <th>top</th>\n",
       "      <td>Home away from home</td>\n",
       "      <td>unconfirmed</td>\n",
       "      <td>Michael</td>\n",
       "      <td>Manhattan</td>\n",
       "      <td>Bedford-Stuyvesant</td>\n",
       "      <td>United States</td>\n",
       "      <td>US</td>\n",
       "      <td>False</td>\n",
       "      <td>moderate</td>\n",
       "      <td>Entire home/apt</td>\n",
       "      <td>$206</td>\n",
       "      <td>$41</td>\n",
       "      <td>6/23/2019</td>\n",
       "      <td>#NAME?</td>\n",
       "      <td>41662/AL</td>\n",
       "    </tr>\n",
       "    <tr>\n",
       "      <th>freq</th>\n",
       "      <td>33</td>\n",
       "      <td>51200</td>\n",
       "      <td>881</td>\n",
       "      <td>43792</td>\n",
       "      <td>7937</td>\n",
       "      <td>102067</td>\n",
       "      <td>102468</td>\n",
       "      <td>51474</td>\n",
       "      <td>34343</td>\n",
       "      <td>53701</td>\n",
       "      <td>137</td>\n",
       "      <td>526</td>\n",
       "      <td>2443</td>\n",
       "      <td>2712</td>\n",
       "      <td>2</td>\n",
       "    </tr>\n",
       "  </tbody>\n",
       "</table>\n",
       "</div>"
      ],
      "text/plain": [
       "                       NAME host_identity_verified host name  \\\n",
       "count                102349                 102310    102193   \n",
       "unique                61281                      2     13190   \n",
       "top     Home away from home            unconfirmed   Michael   \n",
       "freq                     33                  51200       881   \n",
       "\n",
       "       neighbourhood group       neighbourhood        country country code  \\\n",
       "count               102570              102583         102067       102468   \n",
       "unique                   7                 224              1            1   \n",
       "top              Manhattan  Bedford-Stuyvesant  United States           US   \n",
       "freq                 43792                7937         102067       102468   \n",
       "\n",
       "       instant_bookable cancellation_policy        room type   price  \\\n",
       "count            102494              102523           102599  102352   \n",
       "unique                2                   3                4    1151   \n",
       "top               False            moderate  Entire home/apt   $206    \n",
       "freq              51474               34343            53701     137   \n",
       "\n",
       "       service fee last review house_rules   license  \n",
       "count       102326       86706       50468         2  \n",
       "unique         231        2477        1976         1  \n",
       "top           $41    6/23/2019      #NAME?  41662/AL  \n",
       "freq           526        2443        2712         2  "
      ]
     },
     "execution_count": 5,
     "metadata": {},
     "output_type": "execute_result"
    }
   ],
   "source": [
    "df.describe(include=\"O\")"
   ]
  },
  {
   "cell_type": "code",
   "execution_count": 6,
   "id": "69dd96aa",
   "metadata": {},
   "outputs": [
    {
     "data": {
      "text/plain": [
       "(102599, 26)"
      ]
     },
     "execution_count": 6,
     "metadata": {},
     "output_type": "execute_result"
    }
   ],
   "source": [
    "df.shape"
   ]
  },
  {
   "cell_type": "code",
   "execution_count": 7,
   "id": "e580a046",
   "metadata": {},
   "outputs": [
    {
     "name": "stdout",
     "output_type": "stream",
     "text": [
      "Number of records: 102599\n",
      "Number of columns: 26\n"
     ]
    }
   ],
   "source": [
    "print(\"Number of records: {}\".format(df.shape[0]))\n",
    "print(\"Number of columns: {}\".format(df.shape[1]))"
   ]
  },
  {
   "cell_type": "markdown",
   "id": "1ee23d10",
   "metadata": {},
   "source": [
    "### Checking Duplicacy"
   ]
  },
  {
   "cell_type": "code",
   "execution_count": 8,
   "id": "f00bccaf",
   "metadata": {},
   "outputs": [
    {
     "data": {
      "text/plain": [
       "541"
      ]
     },
     "execution_count": 8,
     "metadata": {},
     "output_type": "execute_result"
    }
   ],
   "source": [
    "df.duplicated().sum()"
   ]
  },
  {
   "cell_type": "code",
   "execution_count": 9,
   "id": "0b6d3dbc",
   "metadata": {},
   "outputs": [
    {
     "data": {
      "text/html": [
       "<div>\n",
       "<style scoped>\n",
       "    .dataframe tbody tr th:only-of-type {\n",
       "        vertical-align: middle;\n",
       "    }\n",
       "\n",
       "    .dataframe tbody tr th {\n",
       "        vertical-align: top;\n",
       "    }\n",
       "\n",
       "    .dataframe thead th {\n",
       "        text-align: right;\n",
       "    }\n",
       "</style>\n",
       "<table border=\"1\" class=\"dataframe\">\n",
       "  <thead>\n",
       "    <tr style=\"text-align: right;\">\n",
       "      <th></th>\n",
       "      <th>id</th>\n",
       "      <th>NAME</th>\n",
       "      <th>host id</th>\n",
       "      <th>host_identity_verified</th>\n",
       "      <th>host name</th>\n",
       "      <th>neighbourhood group</th>\n",
       "      <th>neighbourhood</th>\n",
       "      <th>lat</th>\n",
       "      <th>long</th>\n",
       "      <th>country</th>\n",
       "      <th>...</th>\n",
       "      <th>service fee</th>\n",
       "      <th>minimum nights</th>\n",
       "      <th>number of reviews</th>\n",
       "      <th>last review</th>\n",
       "      <th>reviews per month</th>\n",
       "      <th>review rate number</th>\n",
       "      <th>calculated host listings count</th>\n",
       "      <th>availability 365</th>\n",
       "      <th>house_rules</th>\n",
       "      <th>license</th>\n",
       "    </tr>\n",
       "  </thead>\n",
       "  <tbody>\n",
       "    <tr>\n",
       "      <th>102058</th>\n",
       "      <td>35506831</td>\n",
       "      <td>Master Bedroom with private Bathroom &amp; Balcony</td>\n",
       "      <td>55110690425</td>\n",
       "      <td>unconfirmed</td>\n",
       "      <td>UZeyir</td>\n",
       "      <td>Queens</td>\n",
       "      <td>Maspeth</td>\n",
       "      <td>40.74056</td>\n",
       "      <td>-73.90635</td>\n",
       "      <td>United States</td>\n",
       "      <td>...</td>\n",
       "      <td>$141</td>\n",
       "      <td>1.0</td>\n",
       "      <td>1.0</td>\n",
       "      <td>11/14/2021</td>\n",
       "      <td>0.27</td>\n",
       "      <td>3.0</td>\n",
       "      <td>1.0</td>\n",
       "      <td>339.0</td>\n",
       "      <td>NaN</td>\n",
       "      <td>NaN</td>\n",
       "    </tr>\n",
       "    <tr>\n",
       "      <th>102059</th>\n",
       "      <td>35507383</td>\n",
       "      <td>Cozy 2 br in sunny Fort Greene apt</td>\n",
       "      <td>80193772189</td>\n",
       "      <td>verified</td>\n",
       "      <td>Sally</td>\n",
       "      <td>Brooklyn</td>\n",
       "      <td>Fort Greene</td>\n",
       "      <td>40.68701</td>\n",
       "      <td>-73.97555</td>\n",
       "      <td>United States</td>\n",
       "      <td>...</td>\n",
       "      <td>$130</td>\n",
       "      <td>3.0</td>\n",
       "      <td>38.0</td>\n",
       "      <td>11/13/2021</td>\n",
       "      <td>0.27</td>\n",
       "      <td>3.0</td>\n",
       "      <td>1.0</td>\n",
       "      <td>0.0</td>\n",
       "      <td>NaN</td>\n",
       "      <td>NaN</td>\n",
       "    </tr>\n",
       "    <tr>\n",
       "      <th>102060</th>\n",
       "      <td>35507935</td>\n",
       "      <td>Duplex w/ Terrace @ Box House Hotel</td>\n",
       "      <td>72991962259</td>\n",
       "      <td>verified</td>\n",
       "      <td>The Box House Hotel</td>\n",
       "      <td>Brooklyn</td>\n",
       "      <td>Greenpoint</td>\n",
       "      <td>40.73756</td>\n",
       "      <td>-73.95350</td>\n",
       "      <td>United States</td>\n",
       "      <td>...</td>\n",
       "      <td>$181</td>\n",
       "      <td>3.0</td>\n",
       "      <td>10.0</td>\n",
       "      <td>11/13/2021</td>\n",
       "      <td>0.08</td>\n",
       "      <td>3.0</td>\n",
       "      <td>30.0</td>\n",
       "      <td>32.0</td>\n",
       "      <td>NaN</td>\n",
       "      <td>NaN</td>\n",
       "    </tr>\n",
       "    <tr>\n",
       "      <th>102061</th>\n",
       "      <td>35508488</td>\n",
       "      <td>Cozy, clean Greenpoint room with yard access</td>\n",
       "      <td>74975156081</td>\n",
       "      <td>verified</td>\n",
       "      <td>Dawn</td>\n",
       "      <td>Brooklyn</td>\n",
       "      <td>Greenpoint</td>\n",
       "      <td>40.72516</td>\n",
       "      <td>-73.95004</td>\n",
       "      <td>United States</td>\n",
       "      <td>...</td>\n",
       "      <td>$118</td>\n",
       "      <td>30.0</td>\n",
       "      <td>38.0</td>\n",
       "      <td>11/13/2021</td>\n",
       "      <td>0.34</td>\n",
       "      <td>5.0</td>\n",
       "      <td>2.0</td>\n",
       "      <td>324.0</td>\n",
       "      <td>NaN</td>\n",
       "      <td>NaN</td>\n",
       "    </tr>\n",
       "    <tr>\n",
       "      <th>102062</th>\n",
       "      <td>35509040</td>\n",
       "      <td>2BR XL Loft: Cleaning CDC guidelines implemented</td>\n",
       "      <td>85844415221</td>\n",
       "      <td>unconfirmed</td>\n",
       "      <td>Vida</td>\n",
       "      <td>Brooklyn</td>\n",
       "      <td>Greenpoint</td>\n",
       "      <td>40.72732</td>\n",
       "      <td>-73.94185</td>\n",
       "      <td>United States</td>\n",
       "      <td>...</td>\n",
       "      <td>$71</td>\n",
       "      <td>30.0</td>\n",
       "      <td>13.0</td>\n",
       "      <td>11/13/2021</td>\n",
       "      <td>0.14</td>\n",
       "      <td>4.0</td>\n",
       "      <td>28.0</td>\n",
       "      <td>336.0</td>\n",
       "      <td>NaN</td>\n",
       "      <td>NaN</td>\n",
       "    </tr>\n",
       "    <tr>\n",
       "      <th>...</th>\n",
       "      <td>...</td>\n",
       "      <td>...</td>\n",
       "      <td>...</td>\n",
       "      <td>...</td>\n",
       "      <td>...</td>\n",
       "      <td>...</td>\n",
       "      <td>...</td>\n",
       "      <td>...</td>\n",
       "      <td>...</td>\n",
       "      <td>...</td>\n",
       "      <td>...</td>\n",
       "      <td>...</td>\n",
       "      <td>...</td>\n",
       "      <td>...</td>\n",
       "      <td>...</td>\n",
       "      <td>...</td>\n",
       "      <td>...</td>\n",
       "      <td>...</td>\n",
       "      <td>...</td>\n",
       "      <td>...</td>\n",
       "      <td>...</td>\n",
       "    </tr>\n",
       "    <tr>\n",
       "      <th>102594</th>\n",
       "      <td>6092437</td>\n",
       "      <td>Spare room in Williamsburg</td>\n",
       "      <td>12312296767</td>\n",
       "      <td>verified</td>\n",
       "      <td>Krik</td>\n",
       "      <td>Brooklyn</td>\n",
       "      <td>Williamsburg</td>\n",
       "      <td>40.70862</td>\n",
       "      <td>-73.94651</td>\n",
       "      <td>United States</td>\n",
       "      <td>...</td>\n",
       "      <td>$169</td>\n",
       "      <td>1.0</td>\n",
       "      <td>0.0</td>\n",
       "      <td>NaN</td>\n",
       "      <td>NaN</td>\n",
       "      <td>3.0</td>\n",
       "      <td>1.0</td>\n",
       "      <td>227.0</td>\n",
       "      <td>No Smoking No Parties or Events of any kind Pl...</td>\n",
       "      <td>NaN</td>\n",
       "    </tr>\n",
       "    <tr>\n",
       "      <th>102595</th>\n",
       "      <td>6092990</td>\n",
       "      <td>Best Location near Columbia U</td>\n",
       "      <td>77864383453</td>\n",
       "      <td>unconfirmed</td>\n",
       "      <td>Mifan</td>\n",
       "      <td>Manhattan</td>\n",
       "      <td>Morningside Heights</td>\n",
       "      <td>40.80460</td>\n",
       "      <td>-73.96545</td>\n",
       "      <td>United States</td>\n",
       "      <td>...</td>\n",
       "      <td>$167</td>\n",
       "      <td>1.0</td>\n",
       "      <td>1.0</td>\n",
       "      <td>7/6/2015</td>\n",
       "      <td>0.02</td>\n",
       "      <td>2.0</td>\n",
       "      <td>2.0</td>\n",
       "      <td>395.0</td>\n",
       "      <td>House rules: Guests agree to the following ter...</td>\n",
       "      <td>NaN</td>\n",
       "    </tr>\n",
       "    <tr>\n",
       "      <th>102596</th>\n",
       "      <td>6093542</td>\n",
       "      <td>Comfy, bright room in Brooklyn</td>\n",
       "      <td>69050334417</td>\n",
       "      <td>unconfirmed</td>\n",
       "      <td>Megan</td>\n",
       "      <td>Brooklyn</td>\n",
       "      <td>Park Slope</td>\n",
       "      <td>40.67505</td>\n",
       "      <td>-73.98045</td>\n",
       "      <td>United States</td>\n",
       "      <td>...</td>\n",
       "      <td>$198</td>\n",
       "      <td>3.0</td>\n",
       "      <td>0.0</td>\n",
       "      <td>NaN</td>\n",
       "      <td>NaN</td>\n",
       "      <td>5.0</td>\n",
       "      <td>1.0</td>\n",
       "      <td>342.0</td>\n",
       "      <td>NaN</td>\n",
       "      <td>NaN</td>\n",
       "    </tr>\n",
       "    <tr>\n",
       "      <th>102597</th>\n",
       "      <td>6094094</td>\n",
       "      <td>Big Studio-One Stop from Midtown</td>\n",
       "      <td>11160591270</td>\n",
       "      <td>unconfirmed</td>\n",
       "      <td>Christopher</td>\n",
       "      <td>Queens</td>\n",
       "      <td>Long Island City</td>\n",
       "      <td>40.74989</td>\n",
       "      <td>-73.93777</td>\n",
       "      <td>United States</td>\n",
       "      <td>...</td>\n",
       "      <td>$109</td>\n",
       "      <td>2.0</td>\n",
       "      <td>5.0</td>\n",
       "      <td>10/11/2015</td>\n",
       "      <td>0.10</td>\n",
       "      <td>3.0</td>\n",
       "      <td>1.0</td>\n",
       "      <td>386.0</td>\n",
       "      <td>NaN</td>\n",
       "      <td>NaN</td>\n",
       "    </tr>\n",
       "    <tr>\n",
       "      <th>102598</th>\n",
       "      <td>6094647</td>\n",
       "      <td>585 sf Luxury Studio</td>\n",
       "      <td>68170633372</td>\n",
       "      <td>unconfirmed</td>\n",
       "      <td>Rebecca</td>\n",
       "      <td>Manhattan</td>\n",
       "      <td>Upper West Side</td>\n",
       "      <td>40.76807</td>\n",
       "      <td>-73.98342</td>\n",
       "      <td>United States</td>\n",
       "      <td>...</td>\n",
       "      <td>$206</td>\n",
       "      <td>1.0</td>\n",
       "      <td>0.0</td>\n",
       "      <td>NaN</td>\n",
       "      <td>NaN</td>\n",
       "      <td>3.0</td>\n",
       "      <td>1.0</td>\n",
       "      <td>69.0</td>\n",
       "      <td>NaN</td>\n",
       "      <td>NaN</td>\n",
       "    </tr>\n",
       "  </tbody>\n",
       "</table>\n",
       "<p>541 rows × 26 columns</p>\n",
       "</div>"
      ],
      "text/plain": [
       "              id                                              NAME  \\\n",
       "102058  35506831    Master Bedroom with private Bathroom & Balcony   \n",
       "102059  35507383                Cozy 2 br in sunny Fort Greene apt   \n",
       "102060  35507935               Duplex w/ Terrace @ Box House Hotel   \n",
       "102061  35508488      Cozy, clean Greenpoint room with yard access   \n",
       "102062  35509040  2BR XL Loft: Cleaning CDC guidelines implemented   \n",
       "...          ...                                               ...   \n",
       "102594   6092437                        Spare room in Williamsburg   \n",
       "102595   6092990                     Best Location near Columbia U   \n",
       "102596   6093542                    Comfy, bright room in Brooklyn   \n",
       "102597   6094094                  Big Studio-One Stop from Midtown   \n",
       "102598   6094647                              585 sf Luxury Studio   \n",
       "\n",
       "            host id host_identity_verified            host name  \\\n",
       "102058  55110690425            unconfirmed               UZeyir   \n",
       "102059  80193772189               verified                Sally   \n",
       "102060  72991962259               verified  The Box House Hotel   \n",
       "102061  74975156081               verified                 Dawn   \n",
       "102062  85844415221            unconfirmed                 Vida   \n",
       "...             ...                    ...                  ...   \n",
       "102594  12312296767               verified                 Krik   \n",
       "102595  77864383453            unconfirmed                Mifan   \n",
       "102596  69050334417            unconfirmed                Megan   \n",
       "102597  11160591270            unconfirmed          Christopher   \n",
       "102598  68170633372            unconfirmed              Rebecca   \n",
       "\n",
       "       neighbourhood group        neighbourhood       lat      long  \\\n",
       "102058              Queens              Maspeth  40.74056 -73.90635   \n",
       "102059            Brooklyn          Fort Greene  40.68701 -73.97555   \n",
       "102060            Brooklyn           Greenpoint  40.73756 -73.95350   \n",
       "102061            Brooklyn           Greenpoint  40.72516 -73.95004   \n",
       "102062            Brooklyn           Greenpoint  40.72732 -73.94185   \n",
       "...                    ...                  ...       ...       ...   \n",
       "102594            Brooklyn         Williamsburg  40.70862 -73.94651   \n",
       "102595           Manhattan  Morningside Heights  40.80460 -73.96545   \n",
       "102596            Brooklyn           Park Slope  40.67505 -73.98045   \n",
       "102597              Queens     Long Island City  40.74989 -73.93777   \n",
       "102598           Manhattan      Upper West Side  40.76807 -73.98342   \n",
       "\n",
       "              country  ... service fee minimum nights number of reviews  \\\n",
       "102058  United States  ...       $141             1.0               1.0   \n",
       "102059  United States  ...       $130             3.0              38.0   \n",
       "102060  United States  ...       $181             3.0              10.0   \n",
       "102061  United States  ...       $118            30.0              38.0   \n",
       "102062  United States  ...        $71            30.0              13.0   \n",
       "...               ...  ...         ...            ...               ...   \n",
       "102594  United States  ...       $169             1.0               0.0   \n",
       "102595  United States  ...       $167             1.0               1.0   \n",
       "102596  United States  ...       $198             3.0               0.0   \n",
       "102597  United States  ...       $109             2.0               5.0   \n",
       "102598  United States  ...       $206             1.0               0.0   \n",
       "\n",
       "       last review  reviews per month review rate number  \\\n",
       "102058  11/14/2021               0.27                3.0   \n",
       "102059  11/13/2021               0.27                3.0   \n",
       "102060  11/13/2021               0.08                3.0   \n",
       "102061  11/13/2021               0.34                5.0   \n",
       "102062  11/13/2021               0.14                4.0   \n",
       "...            ...                ...                ...   \n",
       "102594         NaN                NaN                3.0   \n",
       "102595    7/6/2015               0.02                2.0   \n",
       "102596         NaN                NaN                5.0   \n",
       "102597  10/11/2015               0.10                3.0   \n",
       "102598         NaN                NaN                3.0   \n",
       "\n",
       "       calculated host listings count  availability 365  \\\n",
       "102058                            1.0             339.0   \n",
       "102059                            1.0               0.0   \n",
       "102060                           30.0              32.0   \n",
       "102061                            2.0             324.0   \n",
       "102062                           28.0             336.0   \n",
       "...                               ...               ...   \n",
       "102594                            1.0             227.0   \n",
       "102595                            2.0             395.0   \n",
       "102596                            1.0             342.0   \n",
       "102597                            1.0             386.0   \n",
       "102598                            1.0              69.0   \n",
       "\n",
       "                                              house_rules license  \n",
       "102058                                                NaN     NaN  \n",
       "102059                                                NaN     NaN  \n",
       "102060                                                NaN     NaN  \n",
       "102061                                                NaN     NaN  \n",
       "102062                                                NaN     NaN  \n",
       "...                                                   ...     ...  \n",
       "102594  No Smoking No Parties or Events of any kind Pl...     NaN  \n",
       "102595  House rules: Guests agree to the following ter...     NaN  \n",
       "102596                                                NaN     NaN  \n",
       "102597                                                NaN     NaN  \n",
       "102598                                                NaN     NaN  \n",
       "\n",
       "[541 rows x 26 columns]"
      ]
     },
     "execution_count": 9,
     "metadata": {},
     "output_type": "execute_result"
    }
   ],
   "source": [
    "df[df.duplicated(['NAME','host id'])]"
   ]
  },
  {
   "cell_type": "markdown",
   "id": "332c5440",
   "metadata": {},
   "source": [
    "### Dropping Duplicates "
   ]
  },
  {
   "cell_type": "code",
   "execution_count": 10,
   "id": "57d66c35",
   "metadata": {},
   "outputs": [],
   "source": [
    "df.drop_duplicates(inplace=True)"
   ]
  },
  {
   "cell_type": "code",
   "execution_count": 11,
   "id": "00990118",
   "metadata": {},
   "outputs": [
    {
     "data": {
      "text/plain": [
       "0"
      ]
     },
     "execution_count": 11,
     "metadata": {},
     "output_type": "execute_result"
    }
   ],
   "source": [
    "df.duplicated().sum()"
   ]
  },
  {
   "cell_type": "markdown",
   "id": "06e1c4cc",
   "metadata": {},
   "source": [
    "### Reset Indexing"
   ]
  },
  {
   "cell_type": "code",
   "execution_count": 12,
   "id": "001c86c7",
   "metadata": {},
   "outputs": [],
   "source": [
    "#After Dropping duplicates we should reset index.\n",
    "df.reset_index(inplace=True, drop=True)"
   ]
  },
  {
   "cell_type": "markdown",
   "id": "58c101e4",
   "metadata": {},
   "source": [
    "### Retriving Column Names in List using function to_list()"
   ]
  },
  {
   "cell_type": "code",
   "execution_count": 13,
   "id": "edc2fa88",
   "metadata": {},
   "outputs": [
    {
     "name": "stdout",
     "output_type": "stream",
     "text": [
      "['id', 'NAME', 'host id', 'host_identity_verified', 'host name', 'neighbourhood group', 'neighbourhood', 'lat', 'long', 'country', 'country code', 'instant_bookable', 'cancellation_policy', 'room type', 'Construction year', 'price', 'service fee', 'minimum nights', 'number of reviews', 'last review', 'reviews per month', 'review rate number', 'calculated host listings count', 'availability 365', 'house_rules', 'license']\n"
     ]
    }
   ],
   "source": [
    "print(df.columns.to_list())"
   ]
  },
  {
   "cell_type": "markdown",
   "id": "4bc762b0",
   "metadata": {},
   "source": [
    "### Replacing Spaces with Underscore and for convinience making all columns in lowercase"
   ]
  },
  {
   "cell_type": "code",
   "execution_count": 14,
   "id": "e504fa45",
   "metadata": {},
   "outputs": [],
   "source": [
    "#replacing spaces with underscore\n",
    "#Convert column values to lower case only if they are string  using col.lower() function\n",
    "#using list comprehension\n",
    "df.columns=[col.lower().replace(' ',\"_\") for col in df.columns]"
   ]
  },
  {
   "cell_type": "code",
   "execution_count": 15,
   "id": "547d8821",
   "metadata": {},
   "outputs": [
    {
     "name": "stdout",
     "output_type": "stream",
     "text": [
      "['id', 'name', 'host_id', 'host_identity_verified', 'host_name', 'neighbourhood_group', 'neighbourhood', 'lat', 'long', 'country', 'country_code', 'instant_bookable', 'cancellation_policy', 'room_type', 'construction_year', 'price', 'service_fee', 'minimum_nights', 'number_of_reviews', 'last_review', 'reviews_per_month', 'review_rate_number', 'calculated_host_listings_count', 'availability_365', 'house_rules', 'license']\n"
     ]
    }
   ],
   "source": [
    "print(df.columns.to_list())"
   ]
  },
  {
   "cell_type": "markdown",
   "id": "2cc8985d",
   "metadata": {},
   "source": [
    "### Missing Values Summary"
   ]
  },
  {
   "cell_type": "code",
   "execution_count": 16,
   "id": "d917d1ef",
   "metadata": {},
   "outputs": [
    {
     "data": {
      "text/plain": [
       "id                                 0.000000\n",
       "name                               0.244959\n",
       "host_id                            0.000000\n",
       "host_identity_verified             0.283172\n",
       "host_name                          0.395853\n",
       "neighbourhood_group                0.028415\n",
       "neighbourhood                      0.015677\n",
       "lat                                0.007839\n",
       "long                               0.007839\n",
       "country                            0.521272\n",
       "country_code                       0.128358\n",
       "instant_bookable                   0.102883\n",
       "cancellation_policy                0.074467\n",
       "room_type                          0.000000\n",
       "construction_year                  0.209685\n",
       "price                              0.242019\n",
       "service_fee                        0.267495\n",
       "minimum_nights                     0.391934\n",
       "number_of_reviews                  0.179310\n",
       "last_review                       15.512748\n",
       "reviews_per_month                 15.499030\n",
       "review_rate_number                 0.312567\n",
       "calculated_host_listings_count     0.312567\n",
       "availability_365                   0.438966\n",
       "house_rules                       50.796606\n",
       "license                           99.998040\n",
       "dtype: float64"
      ]
     },
     "execution_count": 16,
     "metadata": {},
     "output_type": "execute_result"
    }
   ],
   "source": [
    "missing_values=df.isnull().sum()/len(df)*100\n",
    "missing_values"
   ]
  },
  {
   "cell_type": "markdown",
   "id": "82942eff",
   "metadata": {},
   "source": [
    "### Putting above result in dataframe"
   ]
  },
  {
   "cell_type": "code",
   "execution_count": 17,
   "id": "27715c38",
   "metadata": {},
   "outputs": [
    {
     "data": {
      "text/html": [
       "<div>\n",
       "<style scoped>\n",
       "    .dataframe tbody tr th:only-of-type {\n",
       "        vertical-align: middle;\n",
       "    }\n",
       "\n",
       "    .dataframe tbody tr th {\n",
       "        vertical-align: top;\n",
       "    }\n",
       "\n",
       "    .dataframe thead th {\n",
       "        text-align: right;\n",
       "    }\n",
       "</style>\n",
       "<table border=\"1\" class=\"dataframe\">\n",
       "  <thead>\n",
       "    <tr style=\"text-align: right;\">\n",
       "      <th></th>\n",
       "      <th>Columns</th>\n",
       "      <th>%</th>\n",
       "    </tr>\n",
       "  </thead>\n",
       "  <tbody>\n",
       "    <tr>\n",
       "      <th>25</th>\n",
       "      <td>license</td>\n",
       "      <td>99.998040</td>\n",
       "    </tr>\n",
       "    <tr>\n",
       "      <th>24</th>\n",
       "      <td>house_rules</td>\n",
       "      <td>50.796606</td>\n",
       "    </tr>\n",
       "    <tr>\n",
       "      <th>19</th>\n",
       "      <td>last_review</td>\n",
       "      <td>15.512748</td>\n",
       "    </tr>\n",
       "    <tr>\n",
       "      <th>20</th>\n",
       "      <td>reviews_per_month</td>\n",
       "      <td>15.499030</td>\n",
       "    </tr>\n",
       "    <tr>\n",
       "      <th>9</th>\n",
       "      <td>country</td>\n",
       "      <td>0.521272</td>\n",
       "    </tr>\n",
       "    <tr>\n",
       "      <th>23</th>\n",
       "      <td>availability_365</td>\n",
       "      <td>0.438966</td>\n",
       "    </tr>\n",
       "    <tr>\n",
       "      <th>4</th>\n",
       "      <td>host_name</td>\n",
       "      <td>0.395853</td>\n",
       "    </tr>\n",
       "    <tr>\n",
       "      <th>17</th>\n",
       "      <td>minimum_nights</td>\n",
       "      <td>0.391934</td>\n",
       "    </tr>\n",
       "    <tr>\n",
       "      <th>21</th>\n",
       "      <td>review_rate_number</td>\n",
       "      <td>0.312567</td>\n",
       "    </tr>\n",
       "    <tr>\n",
       "      <th>22</th>\n",
       "      <td>calculated_host_listings_count</td>\n",
       "      <td>0.312567</td>\n",
       "    </tr>\n",
       "    <tr>\n",
       "      <th>3</th>\n",
       "      <td>host_identity_verified</td>\n",
       "      <td>0.283172</td>\n",
       "    </tr>\n",
       "    <tr>\n",
       "      <th>16</th>\n",
       "      <td>service_fee</td>\n",
       "      <td>0.267495</td>\n",
       "    </tr>\n",
       "    <tr>\n",
       "      <th>1</th>\n",
       "      <td>name</td>\n",
       "      <td>0.244959</td>\n",
       "    </tr>\n",
       "    <tr>\n",
       "      <th>15</th>\n",
       "      <td>price</td>\n",
       "      <td>0.242019</td>\n",
       "    </tr>\n",
       "    <tr>\n",
       "      <th>14</th>\n",
       "      <td>construction_year</td>\n",
       "      <td>0.209685</td>\n",
       "    </tr>\n",
       "    <tr>\n",
       "      <th>18</th>\n",
       "      <td>number_of_reviews</td>\n",
       "      <td>0.179310</td>\n",
       "    </tr>\n",
       "    <tr>\n",
       "      <th>10</th>\n",
       "      <td>country_code</td>\n",
       "      <td>0.128358</td>\n",
       "    </tr>\n",
       "    <tr>\n",
       "      <th>11</th>\n",
       "      <td>instant_bookable</td>\n",
       "      <td>0.102883</td>\n",
       "    </tr>\n",
       "    <tr>\n",
       "      <th>12</th>\n",
       "      <td>cancellation_policy</td>\n",
       "      <td>0.074467</td>\n",
       "    </tr>\n",
       "    <tr>\n",
       "      <th>5</th>\n",
       "      <td>neighbourhood_group</td>\n",
       "      <td>0.028415</td>\n",
       "    </tr>\n",
       "    <tr>\n",
       "      <th>6</th>\n",
       "      <td>neighbourhood</td>\n",
       "      <td>0.015677</td>\n",
       "    </tr>\n",
       "    <tr>\n",
       "      <th>8</th>\n",
       "      <td>long</td>\n",
       "      <td>0.007839</td>\n",
       "    </tr>\n",
       "    <tr>\n",
       "      <th>7</th>\n",
       "      <td>lat</td>\n",
       "      <td>0.007839</td>\n",
       "    </tr>\n",
       "    <tr>\n",
       "      <th>0</th>\n",
       "      <td>id</td>\n",
       "      <td>0.000000</td>\n",
       "    </tr>\n",
       "    <tr>\n",
       "      <th>2</th>\n",
       "      <td>host_id</td>\n",
       "      <td>0.000000</td>\n",
       "    </tr>\n",
       "    <tr>\n",
       "      <th>13</th>\n",
       "      <td>room_type</td>\n",
       "      <td>0.000000</td>\n",
       "    </tr>\n",
       "  </tbody>\n",
       "</table>\n",
       "</div>"
      ],
      "text/plain": [
       "                           Columns          %\n",
       "25                         license  99.998040\n",
       "24                     house_rules  50.796606\n",
       "19                     last_review  15.512748\n",
       "20               reviews_per_month  15.499030\n",
       "9                          country   0.521272\n",
       "23                availability_365   0.438966\n",
       "4                        host_name   0.395853\n",
       "17                  minimum_nights   0.391934\n",
       "21              review_rate_number   0.312567\n",
       "22  calculated_host_listings_count   0.312567\n",
       "3           host_identity_verified   0.283172\n",
       "16                     service_fee   0.267495\n",
       "1                             name   0.244959\n",
       "15                           price   0.242019\n",
       "14               construction_year   0.209685\n",
       "18               number_of_reviews   0.179310\n",
       "10                    country_code   0.128358\n",
       "11                instant_bookable   0.102883\n",
       "12             cancellation_policy   0.074467\n",
       "5              neighbourhood_group   0.028415\n",
       "6                    neighbourhood   0.015677\n",
       "8                             long   0.007839\n",
       "7                              lat   0.007839\n",
       "0                               id   0.000000\n",
       "2                          host_id   0.000000\n",
       "13                       room_type   0.000000"
      ]
     },
     "execution_count": 17,
     "metadata": {},
     "output_type": "execute_result"
    }
   ],
   "source": [
    "percentage_result=pd.DataFrame({\"Columns\":missing_values.keys(),\"%\":missing_values})\n",
    "percentage_result.reset_index(drop=True, inplace=True)\n",
    "percentage_result.sort_values(ascending=False,by=\"%\")"
   ]
  },
  {
   "cell_type": "markdown",
   "id": "dc1b37be",
   "metadata": {},
   "source": [
    "## Data Cleaning and Visualisation per Column"
   ]
  },
  {
   "cell_type": "markdown",
   "id": "28c830ae",
   "metadata": {},
   "source": [
    "##### host_id"
   ]
  },
  {
   "cell_type": "code",
   "execution_count": 18,
   "id": "d2084b6b",
   "metadata": {},
   "outputs": [
    {
     "data": {
      "text/plain": [
       "99.99902016500421"
      ]
     },
     "execution_count": 18,
     "metadata": {},
     "output_type": "execute_result"
    }
   ],
   "source": [
    "df['host_id'].nunique()/df['host_id'].shape[0]*100  #No need of this column"
   ]
  },
  {
   "cell_type": "code",
   "execution_count": 19,
   "id": "ea1dce49",
   "metadata": {},
   "outputs": [],
   "source": [
    "# 99.99% data of host_id column is unique and I dont think this column will be helpful. so it is better to remove the column.\n",
    "df.drop(columns=[\"host_id\"],inplace=True)"
   ]
  },
  {
   "cell_type": "markdown",
   "id": "89d736c3",
   "metadata": {},
   "source": [
    "##### host_identity_verified"
   ]
  },
  {
   "cell_type": "code",
   "execution_count": 20,
   "id": "96ecc488",
   "metadata": {},
   "outputs": [
    {
     "data": {
      "text/plain": [
       "unconfirmed    50944\n",
       "verified       50825\n",
       "Name: host_identity_verified, dtype: int64"
      ]
     },
     "execution_count": 20,
     "metadata": {},
     "output_type": "execute_result"
    }
   ],
   "source": [
    "df[\"host_identity_verified\"].value_counts() #host_identity_verified missing_values=0.283172% No need to drop"
   ]
  },
  {
   "cell_type": "code",
   "execution_count": 21,
   "id": "12fd8c54",
   "metadata": {},
   "outputs": [
    {
     "data": {
      "text/plain": [
       "<AxesSubplot:ylabel='host_identity_verified'>"
      ]
     },
     "execution_count": 21,
     "metadata": {},
     "output_type": "execute_result"
    },
    {
     "data": {
      "image/png": "[encoded data removed]",
      "text/plain": [
       "<Figure size 432x288 with 1 Axes>"
      ]
     },
     "metadata": {},
     "output_type": "display_data"
    }
   ],
   "source": [
    "df[\"host_identity_verified\"].value_counts().plot.pie( explode= [0.1,0.1],autopct=\"%1.1f%%\")"
   ]
  },
  {
   "cell_type": "markdown",
   "id": "ede32779",
   "metadata": {},
   "source": [
    "##### host_name"
   ]
  },
  {
   "cell_type": "code",
   "execution_count": 22,
   "id": "b3221413",
   "metadata": {},
   "outputs": [
    {
     "data": {
      "text/plain": [
       "Michael               878\n",
       "David                 761\n",
       "John                  577\n",
       "Alex                  543\n",
       "Sonder (NYC)          516\n",
       "                     ... \n",
       "Everett                 1\n",
       "Maureen And Josiah      1\n",
       "Marisa & Tom            1\n",
       "Ish & Asa               1\n",
       "Kahrej                  1\n",
       "Name: host_name, Length: 13190, dtype: int64"
      ]
     },
     "execution_count": 22,
     "metadata": {},
     "output_type": "execute_result"
    }
   ],
   "source": [
    "df[\"host_name\"].value_counts()"
   ]
  },
  {
   "cell_type": "code",
   "execution_count": 23,
   "id": "da67b069",
   "metadata": {},
   "outputs": [
    {
     "name": "stdout",
     "output_type": "stream",
     "text": [
      "Total unique values:13190\n",
      "% of unique values overall: 12.92\n"
     ]
    }
   ],
   "source": [
    "#Determing Unique Values in this column\n",
    "total_unique_values=df['host_name'].nunique()\n",
    "print(f\"Total unique values:{total_unique_values}\")\n",
    "print(f\"% of unique values overall: {round(total_unique_values/df['host_name'].shape[0]*100,2)}\")"
   ]
  },
  {
   "cell_type": "code",
   "execution_count": 24,
   "id": "875efd21",
   "metadata": {},
   "outputs": [
    {
     "data": {
      "image/png": "[encoded data removed]",
      "text/plain": [
       "<Figure size 1152x576 with 1 Axes>"
      ]
     },
     "metadata": {
      "needs_background": "light"
     },
     "output_type": "display_data"
    }
   ],
   "source": [
    "# Retriving Top 30 Host Names\n",
    "plt.figure(figsize=(16,8))\n",
    "sns.barplot(x=df['host_name'].value_counts()[0:29],y=df['host_name'].value_counts().index[0:29], palette=\"magma\")\n",
    "plt.show()"
   ]
  },
  {
   "cell_type": "markdown",
   "id": "0fa086b7",
   "metadata": {},
   "source": [
    "##### Name"
   ]
  },
  {
   "cell_type": "code",
   "execution_count": 25,
   "id": "210091e2",
   "metadata": {},
   "outputs": [
    {
     "data": {
      "text/plain": [
       "61281"
      ]
     },
     "execution_count": 25,
     "metadata": {},
     "output_type": "execute_result"
    }
   ],
   "source": [
    "df['name'].nunique()"
   ]
  },
  {
   "cell_type": "code",
   "execution_count": 26,
   "id": "5864e866",
   "metadata": {},
   "outputs": [
    {
     "data": {
      "text/plain": [
       "Home away from home                                   33\n",
       "Hillside Hotel                                        30\n",
       "Water View King Bed Hotel Room                        30\n",
       "Brooklyn Apartment                                    27\n",
       "New york Multi-unit building                          27\n",
       "Private Room                                          23\n",
       "#NAME?                                                20\n",
       "Private room in Brooklyn                              19\n",
       "Cozy Brooklyn Apartment                               19\n",
       "Cozy home away from home                              18\n",
       "IN MINT CONDITION-STUDIOS EAST 44TH/UNITED NATIONS    18\n",
       "Beautiful 2 Double Bed Hotel Room                     18\n",
       "Private room                                          17\n",
       "Beautiful King Bed Hotel Room                         17\n",
       "Private room in Williamsburg                          16\n",
       "Hotel Room King Bed Chelsea                           16\n",
       "Loft Suite                                            15\n",
       "Harlem Gem                                            15\n",
       "20-25 minutes to downtown NYC/30-40 to midtown        14\n",
       "A CLASSIC NYC NEIGHBORHOOD-EAST 86TH/5TH AVENUE       14\n",
       "❤ of Manhattan | Fantastic 1 Bedroom                  14\n",
       "Bushwick Oasis                                        13\n",
       "Beautiful Brooklyn Brownstone                         13\n",
       "New York Apartment                                    12\n",
       "138 Bowery-Modern Queen Studio                        12\n",
       "Cozy Room                                             12\n",
       "Private Bedroom in Manhattan                          12\n",
       "Cozy Private Room                                     12\n",
       "Private room with private bathroom                    11\n",
       "Name: name, dtype: int64"
      ]
     },
     "execution_count": 26,
     "metadata": {},
     "output_type": "execute_result"
    }
   ],
   "source": [
    "#Top 30 Property\n",
    "df['name'].value_counts()[0:29]"
   ]
  },
  {
   "cell_type": "code",
   "execution_count": 27,
   "id": "89919bf2",
   "metadata": {},
   "outputs": [
    {
     "data": {
      "image/png": "[encoded data removed]",
      "text/plain": [
       "<Figure size 1152x576 with 1 Axes>"
      ]
     },
     "metadata": {
      "needs_background": "light"
     },
     "output_type": "display_data"
    }
   ],
   "source": [
    "plt.figure(figsize=(16,8))\n",
    "sns.barplot(x=df['name'].value_counts()[0:29],y=df['name'].value_counts().index[0:29], palette=\"flare\")\n",
    "plt.show()"
   ]
  },
  {
   "cell_type": "markdown",
   "id": "3f363cf0",
   "metadata": {},
   "source": [
    "##### neighbourhood_group"
   ]
  },
  {
   "cell_type": "code",
   "execution_count": 28,
   "id": "0667ce5f",
   "metadata": {},
   "outputs": [
    {
     "data": {
      "text/plain": [
       "Manhattan        43557\n",
       "Brooklyn         41630\n",
       "Queens           13197\n",
       "Bronx             2694\n",
       "Staten Island      949\n",
       "brookln              1\n",
       "manhatan             1\n",
       "Name: neighbourhood_group, dtype: int64"
      ]
     },
     "execution_count": 28,
     "metadata": {},
     "output_type": "execute_result"
    }
   ],
   "source": [
    "df[\"neighbourhood_group\"].value_counts()"
   ]
  },
  {
   "cell_type": "code",
   "execution_count": 29,
   "id": "20a36a3e",
   "metadata": {},
   "outputs": [
    {
     "data": {
      "text/plain": [
       "29"
      ]
     },
     "execution_count": 29,
     "metadata": {},
     "output_type": "execute_result"
    }
   ],
   "source": [
    "df[\"neighbourhood_group\"].isnull().sum()"
   ]
  },
  {
   "cell_type": "markdown",
   "id": "cd49524b",
   "metadata": {},
   "source": [
    "##### Insights\n",
    "1. It needed to clean as it has 29 missing values and Spelling Mistakes"
   ]
  },
  {
   "cell_type": "code",
   "execution_count": 30,
   "id": "36b12e17",
   "metadata": {},
   "outputs": [
    {
     "data": {
      "text/plain": [
       "array(['Brooklyn', 'Manhattan', 'brookln', 'manhatan', 'Queens', nan,\n",
       "       'Staten Island', 'Bronx'], dtype=object)"
      ]
     },
     "execution_count": 30,
     "metadata": {},
     "output_type": "execute_result"
    }
   ],
   "source": [
    "df['neighbourhood_group'].unique() #there is nan values"
   ]
  },
  {
   "cell_type": "code",
   "execution_count": 31,
   "id": "f9891fb0",
   "metadata": {},
   "outputs": [],
   "source": [
    "df=df.replace(['brookln'],'Brooklyn')\n",
    "df=df.replace(['manhatan'],'Manhattan')"
   ]
  },
  {
   "cell_type": "markdown",
   "id": "cefa7b1b",
   "metadata": {},
   "source": [
    "Replacing NAN values using np.where() np.where(condition, value_if_true, value_if_false)"
   ]
  },
  {
   "cell_type": "code",
   "execution_count": 32,
   "id": "32932463",
   "metadata": {},
   "outputs": [],
   "source": [
    "df['neighbourhood_group']=np.where(df['neighbourhood_group'].isnull(),\"Unknown\",df['neighbourhood_group'])"
   ]
  },
  {
   "cell_type": "code",
   "execution_count": 33,
   "id": "ee420be2",
   "metadata": {},
   "outputs": [
    {
     "data": {
      "text/plain": [
       "Manhattan        43558\n",
       "Brooklyn         41631\n",
       "Queens           13197\n",
       "Bronx             2694\n",
       "Staten Island      949\n",
       "Unknown             29\n",
       "Name: neighbourhood_group, dtype: int64"
      ]
     },
     "execution_count": 33,
     "metadata": {},
     "output_type": "execute_result"
    }
   ],
   "source": [
    "df['neighbourhood_group'].value_counts()"
   ]
  },
  {
   "cell_type": "code",
   "execution_count": 34,
   "id": "06de5e42",
   "metadata": {},
   "outputs": [
    {
     "data": {
      "image/png": "[encoded data removed]",
      "text/plain": [
       "<Figure size 576x432 with 1 Axes>"
      ]
     },
     "metadata": {
      "needs_background": "light"
     },
     "output_type": "display_data"
    }
   ],
   "source": [
    "plt.figure(figsize=(8,6))\n",
    "sns.barplot(x=df['neighbourhood_group'].value_counts(),y=df['neighbourhood_group'].value_counts().index, palette=\"autumn\")\n",
    "plt.show()"
   ]
  },
  {
   "cell_type": "code",
   "execution_count": 35,
   "id": "25a334e4",
   "metadata": {},
   "outputs": [
    {
     "data": {
      "image/png": "[encoded data removed]",
      "text/plain": [
       "<Figure size 576x576 with 1 Axes>"
      ]
     },
     "metadata": {},
     "output_type": "display_data"
    }
   ],
   "source": [
    "plt.figure(figsize=(8,8))\n",
    "df['neighbourhood_group'].value_counts().plot.pie(autopct=\"%1.1f%%\",explode=[0.2,0,0,0,0,0])\n",
    "plt.show()"
   ]
  },
  {
   "cell_type": "markdown",
   "id": "63eb0b05",
   "metadata": {},
   "source": [
    "##### neighbourhood"
   ]
  },
  {
   "cell_type": "code",
   "execution_count": 36,
   "id": "bf993460",
   "metadata": {},
   "outputs": [
    {
     "data": {
      "text/plain": [
       "Bedford-Stuyvesant        7898\n",
       "Williamsburg              7732\n",
       "Harlem                    5441\n",
       "Bushwick                  4956\n",
       "Hell's Kitchen            3949\n",
       "                          ... \n",
       "Willowbrook                  3\n",
       "Gerritsen Beach              3\n",
       "Fort Wadsworth               2\n",
       "Glen Oaks                    2\n",
       "Chelsea, Staten Island       1\n",
       "Name: neighbourhood, Length: 224, dtype: int64"
      ]
     },
     "execution_count": 36,
     "metadata": {},
     "output_type": "execute_result"
    }
   ],
   "source": [
    "df[\"neighbourhood\"].value_counts()"
   ]
  },
  {
   "cell_type": "code",
   "execution_count": 37,
   "id": "3940a1f6",
   "metadata": {},
   "outputs": [
    {
     "name": "stdout",
     "output_type": "stream",
     "text": [
      "Total unique values:           224\n",
      "% of unique values to overall: 0.22%\n"
     ]
    }
   ],
   "source": [
    "total_unique_values = df[\"neighbourhood\"].nunique()\n",
    "print(f\"Total unique values:           {total_unique_values}\")\n",
    "print(f\"% of unique values to overall: {round(total_unique_values/df['neighbourhood'].shape[0] * 100, 2)}%\")\n",
    "# Nothing to clean till now. Total 0.015677% missing values are there."
   ]
  },
  {
   "cell_type": "code",
   "execution_count": 38,
   "id": "f75e3551",
   "metadata": {},
   "outputs": [
    {
     "data": {
      "image/png": "[encoded data removed]",
      "text/plain": [
       "<Figure size 1152x576 with 1 Axes>"
      ]
     },
     "metadata": {
      "needs_background": "light"
     },
     "output_type": "display_data"
    }
   ],
   "source": [
    "#Retriving Top 25 Values\n",
    "plt.figure(figsize=(16,8))\n",
    "sns.barplot(x=df['neighbourhood'].value_counts()[0:24],y=df['neighbourhood'].value_counts().index[0:24], palette=\"autumn\")\n",
    "plt.show()"
   ]
  },
  {
   "cell_type": "code",
   "execution_count": 39,
   "id": "d635bd39",
   "metadata": {},
   "outputs": [
    {
     "data": {
      "text/plain": [
       "7898"
      ]
     },
     "execution_count": 39,
     "metadata": {},
     "output_type": "execute_result"
    }
   ],
   "source": [
    "df['neighbourhood'].value_counts().max()"
   ]
  },
  {
   "cell_type": "markdown",
   "id": "b5e8e31e",
   "metadata": {},
   "source": [
    "##### service_fee"
   ]
  },
  {
   "cell_type": "code",
   "execution_count": 40,
   "id": "0fe26e5b",
   "metadata": {},
   "outputs": [
    {
     "data": {
      "text/plain": [
       "0    $193 \n",
       "1     $28 \n",
       "2    $124 \n",
       "Name: service_fee, dtype: object"
      ]
     },
     "execution_count": 40,
     "metadata": {},
     "output_type": "execute_result"
    }
   ],
   "source": [
    "df['service_fee'].head(3)"
   ]
  },
  {
   "cell_type": "code",
   "execution_count": 41,
   "id": "3d9b1f41",
   "metadata": {},
   "outputs": [],
   "source": [
    "def remove_dollar(value):\n",
    "    if pd.isna(value):\n",
    "        return np.NaN\n",
    "    else:\n",
    "        return float(value.replace(\"$\", \"\").replace(\",\", \"\").replace(\" \", \"\"))\n",
    "    \n",
    "df[\"price\"] = df[\"price\"].apply(lambda x: remove_dollar(x))"
   ]
  },
  {
   "cell_type": "code",
   "execution_count": 42,
   "id": "5003bf18",
   "metadata": {},
   "outputs": [],
   "source": [
    "# remove the $ sign and unwanted characters from the records\n",
    "df[\"service_fee\"] = df[\"service_fee\"].apply(lambda x: remove_dollar(x))"
   ]
  },
  {
   "cell_type": "code",
   "execution_count": 43,
   "id": "dfcd9c5f",
   "metadata": {},
   "outputs": [
    {
     "data": {
      "text/plain": [
       "0    193.0\n",
       "1     28.0\n",
       "2    124.0\n",
       "Name: service_fee, dtype: float64"
      ]
     },
     "execution_count": 43,
     "metadata": {},
     "output_type": "execute_result"
    }
   ],
   "source": [
    "df['service_fee'].head(3)"
   ]
  },
  {
   "cell_type": "code",
   "execution_count": 44,
   "id": "40315cd3",
   "metadata": {},
   "outputs": [
    {
     "name": "stdout",
     "output_type": "stream",
     "text": [
      "Missing values in service_fee column: 0.27%\n"
     ]
    }
   ],
   "source": [
    "print(\"Missing values in service_fee column: {:.2f}%\".format(df['service_fee'].isnull().sum()*100/len(df)))"
   ]
  },
  {
   "cell_type": "code",
   "execution_count": 45,
   "id": "48a82b74",
   "metadata": {},
   "outputs": [
    {
     "data": {
      "text/plain": [
       "<Figure size 1440x504 with 0 Axes>"
      ]
     },
     "metadata": {},
     "output_type": "display_data"
    },
    {
     "data": {
      "image/png": "[encoded data removed]",
      "text/plain": [
       "<Figure size 1440x432 with 2 Axes>"
      ]
     },
     "metadata": {
      "needs_background": "light"
     },
     "output_type": "display_data"
    }
   ],
   "source": [
    "plt.figure(figsize=(20,7))\n",
    "fig, ax = plt.subplots(nrows=1, ncols=2, figsize=(20,6)) #plotting subplots\n",
    "sns.histplot(data=df, x='service_fee', kde=True, ax=ax[0])\n",
    "plt.title(\"Histogram of rating\")\n",
    "sns.boxplot(data=df, x='service_fee', whis=1.5, ax=ax[1])\n",
    "plt.show()"
   ]
  },
  {
   "cell_type": "code",
   "execution_count": 46,
   "id": "1cc0e2a2",
   "metadata": {},
   "outputs": [],
   "source": [
    "df['service_fee']=df['service_fee'].fillna(df['service_fee'].mean())"
   ]
  },
  {
   "cell_type": "code",
   "execution_count": 47,
   "id": "c74bb472",
   "metadata": {},
   "outputs": [
    {
     "name": "stdout",
     "output_type": "stream",
     "text": [
      "Missing values in service_fee column: 0.00%\n"
     ]
    }
   ],
   "source": [
    "print(\"Missing values in service_fee column: {:.2f}%\".format(df['service_fee'].isnull().sum()*100/len(df)))"
   ]
  },
  {
   "cell_type": "markdown",
   "id": "c6486b16",
   "metadata": {},
   "source": [
    "### Outlier Detection using Central Limit Theorem"
   ]
  },
  {
   "cell_type": "code",
   "execution_count": 48,
   "id": "051225c6",
   "metadata": {},
   "outputs": [
    {
     "data": {
      "text/plain": [
       "count    102058.000000\n",
       "mean        125.039249\n",
       "std          66.237136\n",
       "min          10.000000\n",
       "25%          68.000000\n",
       "50%         125.000000\n",
       "75%         182.000000\n",
       "max         240.000000\n",
       "Name: service_fee, dtype: float64"
      ]
     },
     "execution_count": 48,
     "metadata": {},
     "output_type": "execute_result"
    }
   ],
   "source": [
    "df.service_fee.describe()"
   ]
  },
  {
   "cell_type": "code",
   "execution_count": 49,
   "id": "8eafc42d",
   "metadata": {},
   "outputs": [
    {
     "data": {
      "text/plain": [
       "-73.67215857133075"
      ]
     },
     "execution_count": 49,
     "metadata": {},
     "output_type": "execute_result"
    }
   ],
   "source": [
    "(df.service_fee.mean())-3*(df.service_fee.std())"
   ]
  },
  {
   "cell_type": "code",
   "execution_count": 50,
   "id": "e9129722",
   "metadata": {},
   "outputs": [
    {
     "data": {
      "text/plain": [
       "323.750657367812"
      ]
     },
     "execution_count": 50,
     "metadata": {},
     "output_type": "execute_result"
    }
   ],
   "source": [
    "(df.service_fee.mean())+3*(df.service_fee.std())"
   ]
  },
  {
   "cell_type": "markdown",
   "id": "581637f3",
   "metadata": {},
   "source": [
    "Insights No Outlier Present in this Column"
   ]
  },
  {
   "cell_type": "markdown",
   "id": "89d098b9",
   "metadata": {},
   "source": [
    "##### Lattitude and Longitude"
   ]
  },
  {
   "cell_type": "code",
   "execution_count": 51,
   "id": "b2217987",
   "metadata": {},
   "outputs": [
    {
     "data": {
      "text/plain": [
       "count    102050.000000\n",
       "mean         40.728097\n",
       "std           0.055852\n",
       "min          40.499790\n",
       "25%          40.688730\n",
       "50%          40.722290\n",
       "75%          40.762760\n",
       "max          40.916970\n",
       "Name: lat, dtype: float64"
      ]
     },
     "execution_count": 51,
     "metadata": {},
     "output_type": "execute_result"
    }
   ],
   "source": [
    "df[\"lat\"].describe() #lattitude"
   ]
  },
  {
   "cell_type": "code",
   "execution_count": 52,
   "id": "c954503c",
   "metadata": {},
   "outputs": [
    {
     "data": {
      "text/plain": [
       "count    102050.000000\n",
       "mean        -73.949652\n",
       "std           0.049502\n",
       "min         -74.249840\n",
       "25%         -73.982580\n",
       "50%         -73.954440\n",
       "75%         -73.932350\n",
       "max         -73.705220\n",
       "Name: long, dtype: float64"
      ]
     },
     "execution_count": 52,
     "metadata": {},
     "output_type": "execute_result"
    }
   ],
   "source": [
    "df[\"long\"].describe() #longitude"
   ]
  },
  {
   "cell_type": "code",
   "execution_count": 53,
   "id": "959e08f8",
   "metadata": {},
   "outputs": [],
   "source": [
    "# There is no such a big difference between max value and the min value. And there is\n",
    "# 0.007839% missing values. We can leave it for now."
   ]
  },
  {
   "cell_type": "markdown",
   "id": "4028618b",
   "metadata": {},
   "source": [
    "##### Country and Country Code"
   ]
  },
  {
   "cell_type": "code",
   "execution_count": 54,
   "id": "988b790e",
   "metadata": {},
   "outputs": [
    {
     "data": {
      "text/plain": [
       "United States    101526\n",
       "Name: country, dtype: int64"
      ]
     },
     "execution_count": 54,
     "metadata": {},
     "output_type": "execute_result"
    }
   ],
   "source": [
    "df[\"country\"].value_counts()"
   ]
  },
  {
   "cell_type": "code",
   "execution_count": 55,
   "id": "6b7b91f8",
   "metadata": {},
   "outputs": [
    {
     "data": {
      "text/plain": [
       "US    101927\n",
       "Name: country_code, dtype: int64"
      ]
     },
     "execution_count": 55,
     "metadata": {},
     "output_type": "execute_result"
    }
   ],
   "source": [
    "df[\"country_code\"].value_counts()"
   ]
  },
  {
   "cell_type": "code",
   "execution_count": 56,
   "id": "8e03d7c5",
   "metadata": {},
   "outputs": [],
   "source": [
    "# we can drop these 2 columns because there is no variations\n",
    "df.drop(columns = [\"country_code\", \"country\"], axis = 1, inplace = True)"
   ]
  },
  {
   "cell_type": "markdown",
   "id": "1e237527",
   "metadata": {},
   "source": [
    "##### instant_bookable"
   ]
  },
  {
   "cell_type": "code",
   "execution_count": 57,
   "id": "18b079b6",
   "metadata": {},
   "outputs": [
    {
     "data": {
      "text/plain": [
       "False    51186\n",
       "True     50767\n",
       "Name: instant_bookable, dtype: int64"
      ]
     },
     "execution_count": 57,
     "metadata": {},
     "output_type": "execute_result"
    }
   ],
   "source": [
    "df[\"instant_bookable\"].value_counts()"
   ]
  },
  {
   "cell_type": "code",
   "execution_count": 58,
   "id": "ee94e3ba",
   "metadata": {},
   "outputs": [
    {
     "data": {
      "text/plain": [
       "<AxesSubplot:ylabel='instant_bookable'>"
      ]
     },
     "execution_count": 58,
     "metadata": {},
     "output_type": "execute_result"
    },
    {
     "data": {
      "image/png": "[encoded data removed]",
      "text/plain": [
       "<Figure size 432x288 with 1 Axes>"
      ]
     },
     "metadata": {},
     "output_type": "display_data"
    }
   ],
   "source": [
    "df[\"instant_bookable\"].value_counts().plot.pie( explode= [0.1,0.1], colors = [\"#ff9999\", \"#66b3ff\"],autopct=\"%1.1f%%\")"
   ]
  },
  {
   "cell_type": "markdown",
   "id": "6f4d6d5a",
   "metadata": {},
   "source": [
    "##### cancellation_policy"
   ]
  },
  {
   "cell_type": "code",
   "execution_count": 59,
   "id": "b6c36e77",
   "metadata": {},
   "outputs": [
    {
     "data": {
      "text/plain": [
       "moderate    34162\n",
       "strict      33929\n",
       "flexible    33891\n",
       "Name: cancellation_policy, dtype: int64"
      ]
     },
     "execution_count": 59,
     "metadata": {},
     "output_type": "execute_result"
    }
   ],
   "source": [
    "df[\"cancellation_policy\"].value_counts()\n",
    "# this column is also kind off balanced and has 0.074% missing values.\n",
    "# Nothing to clear for now."
   ]
  },
  {
   "cell_type": "code",
   "execution_count": 60,
   "id": "d12b713c",
   "metadata": {},
   "outputs": [
    {
     "data": {
      "text/plain": [
       "<AxesSubplot:xlabel='cancellation_policy', ylabel='count'>"
      ]
     },
     "execution_count": 60,
     "metadata": {},
     "output_type": "execute_result"
    },
    {
     "data": {
      "image/png": "[encoded data removed]",
      "text/plain": [
       "<Figure size 432x288 with 1 Axes>"
      ]
     },
     "metadata": {
      "needs_background": "light"
     },
     "output_type": "display_data"
    }
   ],
   "source": [
    "sns.countplot(data=df, x=\"cancellation_policy\")"
   ]
  },
  {
   "cell_type": "markdown",
   "id": "56185c75",
   "metadata": {},
   "source": [
    "##### Room Type"
   ]
  },
  {
   "cell_type": "code",
   "execution_count": 61,
   "id": "d2d52d5e",
   "metadata": {},
   "outputs": [
    {
     "data": {
      "text/plain": [
       "Entire home/apt    53429\n",
       "Private room       46306\n",
       "Shared room         2208\n",
       "Hotel room           115\n",
       "Name: room_type, dtype: int64"
      ]
     },
     "execution_count": 61,
     "metadata": {},
     "output_type": "execute_result"
    }
   ],
   "source": [
    "df[\"room_type\"].value_counts()\n",
    "# No need to clean for now and also 0% missing values in this column"
   ]
  },
  {
   "cell_type": "code",
   "execution_count": 62,
   "id": "10af0014",
   "metadata": {},
   "outputs": [
    {
     "name": "stdout",
     "output_type": "stream",
     "text": [
      "Entire home/apt    52.351604\n",
      "Private room       45.372239\n",
      "Shared room         2.163476\n",
      "Hotel room          0.112681\n",
      "Name: room_type, dtype: float64\n"
     ]
    }
   ],
   "source": [
    "room_type_pct = df['room_type'].value_counts()*100/len(df)\n",
    "print(room_type_pct)"
   ]
  },
  {
   "cell_type": "code",
   "execution_count": 63,
   "id": "de2abdcb",
   "metadata": {},
   "outputs": [
    {
     "data": {
      "image/png": "[encoded data removed]",
      "text/plain": [
       "<Figure size 432x432 with 1 Axes>"
      ]
     },
     "metadata": {},
     "output_type": "display_data"
    }
   ],
   "source": [
    "plt.figure(figsize=(6,6))\n",
    "plt.pie(room_type_pct, labels = room_type_pct.index,\n",
    "        autopct='%1.1f%%', explode=[0.09,0,0,0])\n",
    "plt.show()"
   ]
  },
  {
   "cell_type": "markdown",
   "id": "be6faae9",
   "metadata": {},
   "source": [
    "##### minimum_nights"
   ]
  },
  {
   "cell_type": "code",
   "execution_count": 64,
   "id": "468fb52d",
   "metadata": {},
   "outputs": [
    {
     "data": {
      "text/plain": [
       "count    101658.000000\n",
       "mean          8.126640\n",
       "std          30.616698\n",
       "min       -1223.000000\n",
       "25%           2.000000\n",
       "50%           3.000000\n",
       "75%           5.000000\n",
       "max        5645.000000\n",
       "Name: minimum_nights, dtype: float64"
      ]
     },
     "execution_count": 64,
     "metadata": {},
     "output_type": "execute_result"
    }
   ],
   "source": [
    "df['minimum_nights'].describe()"
   ]
  },
  {
   "cell_type": "code",
   "execution_count": 65,
   "id": "0b80e401",
   "metadata": {},
   "outputs": [
    {
     "data": {
      "text/plain": [
       "dtype('float64')"
      ]
     },
     "execution_count": 65,
     "metadata": {},
     "output_type": "execute_result"
    }
   ],
   "source": [
    "df['minimum_nights'].dtype"
   ]
  },
  {
   "cell_type": "code",
   "execution_count": 66,
   "id": "7f9d7506",
   "metadata": {},
   "outputs": [
    {
     "data": {
      "text/plain": [
       "400"
      ]
     },
     "execution_count": 66,
     "metadata": {},
     "output_type": "execute_result"
    }
   ],
   "source": [
    "df['minimum_nights'].isnull().sum()"
   ]
  },
  {
   "cell_type": "markdown",
   "id": "9a1d4d8f",
   "metadata": {},
   "source": [
    "NaN is itself float and can't be convert to usual int. You can use dtype=np.int16 for nullable integers:"
   ]
  },
  {
   "cell_type": "code",
   "execution_count": 67,
   "id": "a7652828",
   "metadata": {},
   "outputs": [],
   "source": [
    "df[\"minimum_nights\"]=np.array(df['minimum_nights'],dtype=np.int16)"
   ]
  },
  {
   "cell_type": "code",
   "execution_count": 68,
   "id": "764a7339",
   "metadata": {},
   "outputs": [
    {
     "data": {
      "text/plain": [
       "dtype('int16')"
      ]
     },
     "execution_count": 68,
     "metadata": {},
     "output_type": "execute_result"
    }
   ],
   "source": [
    "df[\"minimum_nights\"].dtype"
   ]
  },
  {
   "cell_type": "code",
   "execution_count": 69,
   "id": "54d7970b",
   "metadata": {},
   "outputs": [
    {
     "data": {
      "text/plain": [
       "0"
      ]
     },
     "execution_count": 69,
     "metadata": {},
     "output_type": "execute_result"
    }
   ],
   "source": [
    "df['minimum_nights'].isnull().sum()"
   ]
  },
  {
   "cell_type": "code",
   "execution_count": 70,
   "id": "e64d3715",
   "metadata": {},
   "outputs": [
    {
     "data": {
      "text/plain": [
       "13"
      ]
     },
     "execution_count": 70,
     "metadata": {},
     "output_type": "execute_result"
    }
   ],
   "source": [
    "df[df['minimum_nights'] < 0]['id'].count()"
   ]
  },
  {
   "cell_type": "code",
   "execution_count": 71,
   "id": "8ae9a8eb",
   "metadata": {},
   "outputs": [
    {
     "data": {
      "text/html": [
       "<div>\n",
       "<style scoped>\n",
       "    .dataframe tbody tr th:only-of-type {\n",
       "        vertical-align: middle;\n",
       "    }\n",
       "\n",
       "    .dataframe tbody tr th {\n",
       "        vertical-align: top;\n",
       "    }\n",
       "\n",
       "    .dataframe thead th {\n",
       "        text-align: right;\n",
       "    }\n",
       "</style>\n",
       "<table border=\"1\" class=\"dataframe\">\n",
       "  <thead>\n",
       "    <tr style=\"text-align: right;\">\n",
       "      <th></th>\n",
       "      <th>neighbourhood_group</th>\n",
       "      <th>neighbourhood</th>\n",
       "    </tr>\n",
       "  </thead>\n",
       "  <tbody>\n",
       "    <tr>\n",
       "      <th>176</th>\n",
       "      <td>Brooklyn</td>\n",
       "      <td>Fort Greene</td>\n",
       "    </tr>\n",
       "    <tr>\n",
       "      <th>352</th>\n",
       "      <td>Brooklyn</td>\n",
       "      <td>Crown Heights</td>\n",
       "    </tr>\n",
       "    <tr>\n",
       "      <th>398</th>\n",
       "      <td>Brooklyn</td>\n",
       "      <td>Kensington</td>\n",
       "    </tr>\n",
       "    <tr>\n",
       "      <th>421</th>\n",
       "      <td>Manhattan</td>\n",
       "      <td>Nolita</td>\n",
       "    </tr>\n",
       "    <tr>\n",
       "      <th>441</th>\n",
       "      <td>Manhattan</td>\n",
       "      <td>Harlem</td>\n",
       "    </tr>\n",
       "    <tr>\n",
       "      <th>478</th>\n",
       "      <td>Manhattan</td>\n",
       "      <td>Upper West Side</td>\n",
       "    </tr>\n",
       "    <tr>\n",
       "      <th>525</th>\n",
       "      <td>Brooklyn</td>\n",
       "      <td>Bedford-Stuyvesant</td>\n",
       "    </tr>\n",
       "    <tr>\n",
       "      <th>42446</th>\n",
       "      <td>Bronx</td>\n",
       "      <td>Hunts Point</td>\n",
       "    </tr>\n",
       "    <tr>\n",
       "      <th>42500</th>\n",
       "      <td>Manhattan</td>\n",
       "      <td>Hell's Kitchen</td>\n",
       "    </tr>\n",
       "    <tr>\n",
       "      <th>42538</th>\n",
       "      <td>Brooklyn</td>\n",
       "      <td>Bedford-Stuyvesant</td>\n",
       "    </tr>\n",
       "    <tr>\n",
       "      <th>69749</th>\n",
       "      <td>Brooklyn</td>\n",
       "      <td>Williamsburg</td>\n",
       "    </tr>\n",
       "    <tr>\n",
       "      <th>91271</th>\n",
       "      <td>Manhattan</td>\n",
       "      <td>Midtown</td>\n",
       "    </tr>\n",
       "    <tr>\n",
       "      <th>91357</th>\n",
       "      <td>Brooklyn</td>\n",
       "      <td>Gowanus</td>\n",
       "    </tr>\n",
       "  </tbody>\n",
       "</table>\n",
       "</div>"
      ],
      "text/plain": [
       "      neighbourhood_group       neighbourhood\n",
       "176              Brooklyn         Fort Greene\n",
       "352              Brooklyn       Crown Heights\n",
       "398              Brooklyn          Kensington\n",
       "421             Manhattan              Nolita\n",
       "441             Manhattan              Harlem\n",
       "478             Manhattan     Upper West Side\n",
       "525              Brooklyn  Bedford-Stuyvesant\n",
       "42446               Bronx         Hunts Point\n",
       "42500           Manhattan      Hell's Kitchen\n",
       "42538            Brooklyn  Bedford-Stuyvesant\n",
       "69749            Brooklyn        Williamsburg\n",
       "91271           Manhattan             Midtown\n",
       "91357            Brooklyn             Gowanus"
      ]
     },
     "execution_count": 71,
     "metadata": {},
     "output_type": "execute_result"
    }
   ],
   "source": [
    "df[df['minimum_nights'] < 0][['neighbourhood_group','neighbourhood']]"
   ]
  },
  {
   "cell_type": "code",
   "execution_count": 72,
   "id": "aa17a516",
   "metadata": {},
   "outputs": [],
   "source": [
    "df['minimum_nights'] = np.where(df['minimum_nights']<=0,1.0,df['minimum_nights'])"
   ]
  },
  {
   "cell_type": "code",
   "execution_count": 73,
   "id": "480e155c",
   "metadata": {},
   "outputs": [
    {
     "data": {
      "text/plain": [
       "count    102058.000000\n",
       "mean          8.118197\n",
       "std          30.283306\n",
       "min           1.000000\n",
       "25%           1.000000\n",
       "50%           3.000000\n",
       "75%           5.000000\n",
       "max        5645.000000\n",
       "Name: minimum_nights, dtype: float64"
      ]
     },
     "execution_count": 73,
     "metadata": {},
     "output_type": "execute_result"
    }
   ],
   "source": [
    "df['minimum_nights'].describe()"
   ]
  },
  {
   "cell_type": "code",
   "execution_count": 74,
   "id": "582a8735",
   "metadata": {},
   "outputs": [
    {
     "data": {
      "text/plain": [
       "381"
      ]
     },
     "execution_count": 74,
     "metadata": {},
     "output_type": "execute_result"
    }
   ],
   "source": [
    "df[df['minimum_nights']>100]['id'].count()"
   ]
  },
  {
   "cell_type": "markdown",
   "id": "cd79af65",
   "metadata": {},
   "source": [
    "##### number_of_reviews"
   ]
  },
  {
   "cell_type": "code",
   "execution_count": 75,
   "id": "27d71339",
   "metadata": {},
   "outputs": [
    {
     "data": {
      "text/plain": [
       "dtype('float64')"
      ]
     },
     "execution_count": 75,
     "metadata": {},
     "output_type": "execute_result"
    }
   ],
   "source": [
    "df[\"number_of_reviews\"].dtype"
   ]
  },
  {
   "cell_type": "code",
   "execution_count": 76,
   "id": "1fe059c1",
   "metadata": {},
   "outputs": [],
   "source": [
    "df[\"number_of_reviews\"] = np.array(df[\"number_of_reviews\"], dtype = np.int16)"
   ]
  },
  {
   "cell_type": "code",
   "execution_count": 77,
   "id": "d4553024",
   "metadata": {},
   "outputs": [
    {
     "data": {
      "text/plain": [
       "count    102058.000000\n",
       "mean         27.468606\n",
       "std          49.540962\n",
       "min           0.000000\n",
       "25%           1.000000\n",
       "50%           7.000000\n",
       "75%          30.000000\n",
       "max        1024.000000\n",
       "Name: number_of_reviews, dtype: float64"
      ]
     },
     "execution_count": 77,
     "metadata": {},
     "output_type": "execute_result"
    }
   ],
   "source": [
    "df['number_of_reviews'].describe()"
   ]
  },
  {
   "cell_type": "code",
   "execution_count": 78,
   "id": "01dd2000",
   "metadata": {},
   "outputs": [
    {
     "data": {
      "text/plain": [
       "<Figure size 1440x504 with 0 Axes>"
      ]
     },
     "metadata": {},
     "output_type": "display_data"
    },
    {
     "data": {
      "image/png": "[encoded data removed]",
      "text/plain": [
       "<Figure size 1440x432 with 2 Axes>"
      ]
     },
     "metadata": {
      "needs_background": "light"
     },
     "output_type": "display_data"
    }
   ],
   "source": [
    "plt.figure(figsize=(20,7))\n",
    "fig, axes = plt.subplots(nrows=1, ncols=2, figsize=(20,6))\n",
    "sns.histplot(data=df, x='number_of_reviews', kde=True, ax=axes[0])\n",
    "plt.title(\"Histogram of number_of_reviews\")\n",
    "sns.boxplot(data=df, x='number_of_reviews', ax=axes[1])\n",
    "plt.show()"
   ]
  },
  {
   "cell_type": "code",
   "execution_count": 79,
   "id": "da8d8923",
   "metadata": {},
   "outputs": [
    {
     "name": "stdout",
     "output_type": "stream",
     "text": [
      "neighbourhood\n",
      "Bedford-Stuyvesant           271748.0\n",
      "Williamsburg                 191119.0\n",
      "Harlem                       179229.0\n",
      "Bushwick                     123381.0\n",
      "Hell's Kitchen               111314.0\n",
      "East Village                  97393.0\n",
      "Crown Heights                 89414.0\n",
      "East Harlem                   82668.0\n",
      "Upper West Side               77544.0\n",
      "Upper East Side               70032.0\n",
      "Chelsea                       59085.0\n",
      "Midtown                       55409.0\n",
      "Lower East Side               53703.0\n",
      "Astoria                       49960.0\n",
      "Greenpoint                    44183.0\n",
      "East Elmhurst                 42661.0\n",
      "Flushing                      41447.0\n",
      "Washington Heights            39021.0\n",
      "East Flatbush                 35789.0\n",
      "Prospect-Lefferts Gardens     35091.0\n",
      "Park Slope                    33634.0\n",
      "West Village                  33132.0\n",
      "Clinton Hill                  33098.0\n",
      "Jamaica                       32573.0\n",
      "Flatbush                      31572.0\n",
      "Name: number_of_reviews, dtype: float64\n"
     ]
    }
   ],
   "source": [
    "top_25_reviewed_neighbourhoods = df.groupby(['neighbourhood'])['number_of_reviews'].sum().sort_values(ascending=False)[0:25]\n",
    "print(top_25_reviewed_neighbourhoods)"
   ]
  },
  {
   "cell_type": "code",
   "execution_count": 80,
   "id": "c261617f",
   "metadata": {},
   "outputs": [
    {
     "data": {
      "image/png": "[encoded data removed]",
      "text/plain": [
       "<Figure size 576x720 with 1 Axes>"
      ]
     },
     "metadata": {
      "needs_background": "light"
     },
     "output_type": "display_data"
    }
   ],
   "source": [
    "plt.figure(figsize=(8,10))\n",
    "sns.barplot(x=top_25_reviewed_neighbourhoods.values, y=top_25_reviewed_neighbourhoods.index)\n",
    "plt.show()"
   ]
  },
  {
   "cell_type": "markdown",
   "id": "4800da35",
   "metadata": {},
   "source": [
    "##### Review_rate_number"
   ]
  },
  {
   "cell_type": "code",
   "execution_count": 81,
   "id": "a1b2878e",
   "metadata": {},
   "outputs": [
    {
     "data": {
      "text/plain": [
       "319"
      ]
     },
     "execution_count": 81,
     "metadata": {},
     "output_type": "execute_result"
    }
   ],
   "source": [
    "df[\"review_rate_number\"].isnull().sum()"
   ]
  },
  {
   "cell_type": "code",
   "execution_count": 82,
   "id": "f52e0d33",
   "metadata": {},
   "outputs": [
    {
     "data": {
      "text/plain": [
       "5.0    23251\n",
       "4.0    23200\n",
       "3.0    23130\n",
       "2.0    22972\n",
       "1.0     9186\n",
       "Name: review_rate_number, dtype: int64"
      ]
     },
     "execution_count": 82,
     "metadata": {},
     "output_type": "execute_result"
    }
   ],
   "source": [
    "df[\"review_rate_number\"].value_counts()"
   ]
  },
  {
   "cell_type": "code",
   "execution_count": 83,
   "id": "66c0de9a",
   "metadata": {},
   "outputs": [],
   "source": [
    "#Converting NaN values to integer and changing the datatype\n",
    "df[\"review_rate_number\"] = np.array(df[\"review_rate_number\"], dtype=np.int8)"
   ]
  },
  {
   "cell_type": "code",
   "execution_count": 84,
   "id": "bbe0a8b9",
   "metadata": {},
   "outputs": [
    {
     "data": {
      "text/plain": [
       "0"
      ]
     },
     "execution_count": 84,
     "metadata": {},
     "output_type": "execute_result"
    }
   ],
   "source": [
    "df[\"review_rate_number\"].isnull().sum()"
   ]
  },
  {
   "cell_type": "code",
   "execution_count": 85,
   "id": "b8bbfa9d",
   "metadata": {},
   "outputs": [
    {
     "data": {
      "text/plain": [
       "6"
      ]
     },
     "execution_count": 85,
     "metadata": {},
     "output_type": "execute_result"
    }
   ],
   "source": [
    "df['review_rate_number'].nunique()"
   ]
  },
  {
   "cell_type": "code",
   "execution_count": 86,
   "id": "94f2601d",
   "metadata": {},
   "outputs": [
    {
     "data": {
      "text/plain": [
       "array([4, 5, 3, 0, 2, 1], dtype=int8)"
      ]
     },
     "execution_count": 86,
     "metadata": {},
     "output_type": "execute_result"
    }
   ],
   "source": [
    "df['review_rate_number'].unique()"
   ]
  },
  {
   "cell_type": "code",
   "execution_count": 87,
   "id": "c90b3891",
   "metadata": {},
   "outputs": [
    {
     "data": {
      "image/png": "[encoded data removed]",
      "text/plain": [
       "<Figure size 432x432 with 1 Axes>"
      ]
     },
     "metadata": {
      "needs_background": "light"
     },
     "output_type": "display_data"
    }
   ],
   "source": [
    "plt.figure(figsize=(6,6))\n",
    "sns.countplot(data=df, x='review_rate_number')\n",
    "plt.show()"
   ]
  },
  {
   "cell_type": "markdown",
   "id": "3f6dca56",
   "metadata": {},
   "source": [
    "#### Average Rating per neighbourhood (Top 25)"
   ]
  },
  {
   "cell_type": "code",
   "execution_count": 88,
   "id": "27a3f57d",
   "metadata": {},
   "outputs": [
    {
     "name": "stdout",
     "output_type": "stream",
     "text": [
      "neighbourhood\n",
      "Glen Oaks             4.500000\n",
      "Co-op City            4.400000\n",
      "Gerritsen Beach       4.333333\n",
      "Huguenot              4.111111\n",
      "Eltingville           4.000000\n",
      "Todt Hill             4.000000\n",
      "Woodrow               4.000000\n",
      "Silver Lake           4.000000\n",
      "West Farms            4.000000\n",
      "Rosebank              3.928571\n",
      "Bull's Head           3.916667\n",
      "Little Neck           3.875000\n",
      "Oakwood               3.857143\n",
      "Clifton               3.820513\n",
      "Mill Basin            3.785714\n",
      "Mount Eden            3.777778\n",
      "Arden Heights         3.777778\n",
      "Grymes Hill           3.722222\n",
      "City Island           3.707317\n",
      "South Beach           3.687500\n",
      "Shore Acres           3.666667\n",
      "Westchester Square    3.652174\n",
      "Unionport             3.636364\n",
      "Bay Terrace           3.625000\n",
      "Name: review_rate_number, dtype: float64\n"
     ]
    }
   ],
   "source": [
    "avg_rating_per_neighbourhood = df.groupby(['neighbourhood'])['review_rate_number'].mean().sort_values(ascending=False)[0:24]\n",
    "print(avg_rating_per_neighbourhood)"
   ]
  },
  {
   "cell_type": "code",
   "execution_count": 89,
   "id": "b0c3bf7e",
   "metadata": {},
   "outputs": [
    {
     "data": {
      "image/png": "[encoded data removed]",
      "text/plain": [
       "<Figure size 576x720 with 1 Axes>"
      ]
     },
     "metadata": {
      "needs_background": "light"
     },
     "output_type": "display_data"
    }
   ],
   "source": [
    "plt.figure(figsize=(8,10))\n",
    "sns.barplot(x=avg_rating_per_neighbourhood.values, y=avg_rating_per_neighbourhood.index)\n",
    "plt.show()"
   ]
  },
  {
   "cell_type": "markdown",
   "id": "62bfe2f3",
   "metadata": {},
   "source": [
    "##### calculated_host_listings_count"
   ]
  },
  {
   "cell_type": "code",
   "execution_count": 90,
   "id": "feadb09f",
   "metadata": {},
   "outputs": [
    {
     "data": {
      "text/plain": [
       "78"
      ]
     },
     "execution_count": 90,
     "metadata": {},
     "output_type": "execute_result"
    }
   ],
   "source": [
    "df[\"calculated_host_listings_count\"].nunique()"
   ]
  },
  {
   "cell_type": "code",
   "execution_count": 91,
   "id": "d3630662",
   "metadata": {},
   "outputs": [
    {
     "data": {
      "text/plain": [
       "Float64Index([  1.0,   2.0,   3.0,   4.0,   5.0,   6.0,   7.0,   8.0,   9.0,\n",
       "               10.0, 327.0,  12.0,  96.0,  11.0,  13.0, 232.0,  33.0, 121.0,\n",
       "              208.0,  14.0,  23.0,  91.0,  17.0,  87.0,  52.0,  49.0,  34.0,\n",
       "               50.0, 186.0, 103.0,  18.0,  65.0,  15.0, 161.0,  28.0,  31.0,\n",
       "              102.0,  19.0, 108.0,  20.0,  25.0,  47.0,  30.0,  37.0,  26.0,\n",
       "               53.0,  43.0,  48.0,  32.0,  16.0, 171.0,  66.0,  83.0, 152.0,\n",
       "               24.0,  39.0,  56.0, 126.0,  27.0,  51.0,  54.0,  21.0,  62.0,\n",
       "               44.0,  59.0, 332.0,  29.0, 125.0, 218.0,  45.0,  67.0,  63.0,\n",
       "               58.0,  86.0,  22.0,  55.0,  46.0,  80.0],\n",
       "             dtype='float64')"
      ]
     },
     "execution_count": 91,
     "metadata": {},
     "output_type": "execute_result"
    }
   ],
   "source": [
    "df[\"calculated_host_listings_count\"].value_counts().keys()"
   ]
  },
  {
   "cell_type": "code",
   "execution_count": 92,
   "id": "0bdc0d94",
   "metadata": {},
   "outputs": [],
   "source": [
    "df[\"calculated_host_listings_count\"] = np.array(df[\"calculated_host_listings_count\"], dtype = np.int16)"
   ]
  },
  {
   "cell_type": "code",
   "execution_count": 93,
   "id": "55f5756e",
   "metadata": {},
   "outputs": [
    {
     "data": {
      "text/plain": [
       "dtype('int16')"
      ]
     },
     "execution_count": 93,
     "metadata": {},
     "output_type": "execute_result"
    }
   ],
   "source": [
    "df[\"calculated_host_listings_count\"].dtype"
   ]
  },
  {
   "cell_type": "code",
   "execution_count": 94,
   "id": "2fc65501",
   "metadata": {},
   "outputs": [
    {
     "data": {
      "image/png": "[encoded data removed]",
      "text/plain": [
       "<Figure size 1800x1800 with 1 Axes>"
      ]
     },
     "metadata": {
      "needs_background": "light"
     },
     "output_type": "display_data"
    }
   ],
   "source": [
    "plt.figure(figsize=(25,25))\n",
    "sns.barplot(x=df['calculated_host_listings_count'].value_counts().index,y=df['calculated_host_listings_count'].value_counts(), palette=\"autumn\",ci=False,orient='h')\n",
    "plt.show()"
   ]
  },
  {
   "cell_type": "markdown",
   "id": "7164a32a",
   "metadata": {},
   "source": [
    "##### availability_365"
   ]
  },
  {
   "cell_type": "code",
   "execution_count": 95,
   "id": "75605cc4",
   "metadata": {},
   "outputs": [
    {
     "data": {
      "text/plain": [
       "count    101610.000000\n",
       "mean        141.043992\n",
       "std         135.429156\n",
       "min         -10.000000\n",
       "25%           3.000000\n",
       "50%          96.000000\n",
       "75%         268.000000\n",
       "max        3677.000000\n",
       "Name: availability_365, dtype: float64"
      ]
     },
     "execution_count": 95,
     "metadata": {},
     "output_type": "execute_result"
    }
   ],
   "source": [
    "df[\"availability_365\"].describe()"
   ]
  },
  {
   "cell_type": "markdown",
   "id": "a50e352d",
   "metadata": {},
   "source": [
    "##### In availabilty of 365 , the values below zero and above 365 are not valid. Values above 365 considered to be 365. Values below 0 , it may be misspelled that's why multiplying with -1."
   ]
  },
  {
   "cell_type": "code",
   "execution_count": 96,
   "id": "d363e229",
   "metadata": {},
   "outputs": [],
   "source": [
    "df['availability_365'] = np.where(df['availability_365']<0, df['availability_365']*-1, df['availability_365'])\n",
    "df['availability_365'] = np.where(df['availability_365']>365, 365 , df['availability_365'])"
   ]
  },
  {
   "cell_type": "code",
   "execution_count": 97,
   "id": "304fd9b7",
   "metadata": {},
   "outputs": [
    {
     "data": {
      "text/plain": [
       "count    101610.000000\n",
       "mean        140.227547\n",
       "std         133.413531\n",
       "min           0.000000\n",
       "25%           4.000000\n",
       "50%          96.000000\n",
       "75%         268.000000\n",
       "max         365.000000\n",
       "Name: availability_365, dtype: float64"
      ]
     },
     "execution_count": 97,
     "metadata": {},
     "output_type": "execute_result"
    }
   ],
   "source": [
    "df['availability_365'].describe()"
   ]
  },
  {
   "cell_type": "code",
   "execution_count": 98,
   "id": "f31742d2",
   "metadata": {},
   "outputs": [
    {
     "data": {
      "image/png": "[encoded data removed]",
      "text/plain": [
       "<Figure size 720x504 with 1 Axes>"
      ]
     },
     "metadata": {
      "needs_background": "light"
     },
     "output_type": "display_data"
    }
   ],
   "source": [
    "plt.figure(figsize=(10,7))\n",
    "sns.histplot(data=df, x='availability_365', kde=True)\n",
    "plt.show()"
   ]
  },
  {
   "cell_type": "markdown",
   "id": "190621fc",
   "metadata": {},
   "source": [
    "#### Categorisation "
   ]
  },
  {
   "cell_type": "code",
   "execution_count": 99,
   "id": "dbbc03c4",
   "metadata": {},
   "outputs": [],
   "source": [
    "df['availability_grp'] = np.where(df['availability_365']<=90, '0-3 Months',\n",
    "                   np.where((df['availability_365'] > 9) & (df['availability_365'] <= 180), '3-6 Months',\n",
    "                   np.where((df['availability_365'] > 180) & (df['availability_365'] <= 270), '6-9 Months', '9-12 Months')))"
   ]
  },
  {
   "cell_type": "code",
   "execution_count": 100,
   "id": "fb19d19f",
   "metadata": {},
   "outputs": [
    {
     "data": {
      "text/plain": [
       "0-3 Months     49880\n",
       "9-12 Months    25443\n",
       "3-6 Months     14875\n",
       "6-9 Months     11860\n",
       "Name: availability_grp, dtype: int64"
      ]
     },
     "execution_count": 100,
     "metadata": {},
     "output_type": "execute_result"
    }
   ],
   "source": [
    "df['availability_grp'].value_counts()"
   ]
  },
  {
   "cell_type": "code",
   "execution_count": 101,
   "id": "6971b0b8",
   "metadata": {},
   "outputs": [
    {
     "name": "stdout",
     "output_type": "stream",
     "text": [
      "0-3 Months     48.874170\n",
      "9-12 Months    24.929942\n",
      "3-6 Months     14.575046\n",
      "6-9 Months     11.620843\n",
      "Name: availability_grp, dtype: float64\n"
     ]
    }
   ],
   "source": [
    "availability_grp_pct = df['availability_grp'].value_counts()*100/len(df)\n",
    "print(availability_grp_pct)"
   ]
  },
  {
   "cell_type": "code",
   "execution_count": 102,
   "id": "b9466b2f",
   "metadata": {},
   "outputs": [
    {
     "data": {
      "image/png": "[encoded data removed]",
      "text/plain": [
       "<Figure size 432x432 with 1 Axes>"
      ]
     },
     "metadata": {},
     "output_type": "display_data"
    }
   ],
   "source": [
    "plt.figure(figsize=(6,6))\n",
    "plt.pie(availability_grp_pct, labels = availability_grp_pct.index,\n",
    "        autopct='%1.1f%%', startangle=90, explode=[0.09,0,0,0])\n",
    "plt.show()"
   ]
  },
  {
   "cell_type": "markdown",
   "id": "4f2735a4",
   "metadata": {},
   "source": [
    "#### Construction Year"
   ]
  },
  {
   "cell_type": "code",
   "execution_count": 103,
   "id": "54d98984",
   "metadata": {},
   "outputs": [
    {
     "name": "stdout",
     "output_type": "stream",
     "text": [
      "[2020. 2007. 2005. 2009. 2013. 2015. 2004. 2008. 2010. 2019. 2018. 2006.\n",
      " 2016. 2017. 2021. 2003. 2011. 2012. 2022. 2014.   nan]\n"
     ]
    }
   ],
   "source": [
    "print(df['construction_year'].unique())"
   ]
  },
  {
   "cell_type": "code",
   "execution_count": 104,
   "id": "2d94850a",
   "metadata": {},
   "outputs": [
    {
     "name": "stdout",
     "output_type": "stream",
     "text": [
      "[2020. 2007. 2005. 2009. 2013. 2015. 2004. 2008. 2010. 2019. 2018. 2006.\n",
      " 2016. 2017. 2021. 2003. 2011. 2012. 2022. 2014.   nan]\n"
     ]
    }
   ],
   "source": [
    "print(df['construction_year'].unique())"
   ]
  },
  {
   "cell_type": "code",
   "execution_count": 105,
   "id": "5968c952",
   "metadata": {},
   "outputs": [
    {
     "name": "stdout",
     "output_type": "stream",
     "text": [
      "Missing values in service_fee column: 0.21%\n"
     ]
    }
   ],
   "source": [
    "print(\"Missing values in service_fee column: {:.2f}%\".format(df['construction_year'].isnull().sum()*100/len(df)))"
   ]
  },
  {
   "cell_type": "code",
   "execution_count": 106,
   "id": "4bfd7a10",
   "metadata": {},
   "outputs": [],
   "source": [
    "df['construction_year']=df['construction_year'].fillna(df['construction_year'].median())"
   ]
  },
  {
   "cell_type": "code",
   "execution_count": 107,
   "id": "67783614",
   "metadata": {},
   "outputs": [
    {
     "name": "stdout",
     "output_type": "stream",
     "text": [
      "Missing values in service_fee column: 0.00%\n"
     ]
    }
   ],
   "source": [
    "print(\"Missing values in service_fee column: {:.2f}%\".format(df['construction_year'].isnull().sum()*100/len(df)))"
   ]
  },
  {
   "cell_type": "code",
   "execution_count": 108,
   "id": "63fcc869",
   "metadata": {},
   "outputs": [
    {
     "data": {
      "text/plain": [
       "array([2003, 2004, 2005, 2006, 2007, 2008, 2009, 2010, 2011, 2012, 2013,\n",
       "       2014, 2015, 2016, 2017, 2018, 2019, 2020, 2021, 2022], dtype=int16)"
      ]
     },
     "execution_count": 108,
     "metadata": {},
     "output_type": "execute_result"
    }
   ],
   "source": [
    "value = df['construction_year'].value_counts().sort_index()\n",
    "keys = np.array(value.keys(), dtype = np.int16)\n",
    "keys"
   ]
  },
  {
   "cell_type": "code",
   "execution_count": 109,
   "id": "c6811832",
   "metadata": {},
   "outputs": [
    {
     "data": {
      "text/plain": [
       "[<matplotlib.lines.Line2D at 0x1882bdf5670>]"
      ]
     },
     "execution_count": 109,
     "metadata": {},
     "output_type": "execute_result"
    },
    {
     "data": {
      "image/png": "[encoded data removed]",
      "text/plain": [
       "<Figure size 1152x504 with 1 Axes>"
      ]
     },
     "metadata": {
      "needs_background": "light"
     },
     "output_type": "display_data"
    }
   ],
   "source": [
    "plt.figure(figsize=(16,7))\n",
    "plt.plot(keys,value,marker=\"*\")"
   ]
  },
  {
   "cell_type": "code",
   "execution_count": 110,
   "id": "bce8b8b8",
   "metadata": {},
   "outputs": [
    {
     "data": {
      "image/png": "[encoded data removed]",
      "text/plain": [
       "<Figure size 720x720 with 1 Axes>"
      ]
     },
     "metadata": {
      "needs_background": "light"
     },
     "output_type": "display_data"
    }
   ],
   "source": [
    "plt.figure(figsize=(10,10))\n",
    "sns.barplot(y=df['construction_year'].value_counts().index, \n",
    "            x=df['construction_year'].value_counts(), orient='h')\n",
    "plt.show()"
   ]
  },
  {
   "cell_type": "markdown",
   "id": "bb793280",
   "metadata": {},
   "source": [
    "##### house_rules"
   ]
  },
  {
   "cell_type": "code",
   "execution_count": 111,
   "id": "7791d659",
   "metadata": {},
   "outputs": [
    {
     "data": {
      "text/plain": [
       "50.7966058515746"
      ]
     },
     "execution_count": 111,
     "metadata": {},
     "output_type": "execute_result"
    }
   ],
   "source": [
    "df['house_rules'].isnull().sum()/len(df)*100"
   ]
  },
  {
   "cell_type": "code",
   "execution_count": 112,
   "id": "6f4eb010",
   "metadata": {},
   "outputs": [],
   "source": [
    "# Because of high NaN values, I am droping this column\n",
    "df.drop(columns = [\"house_rules\"], axis = 1, inplace = True)"
   ]
  },
  {
   "cell_type": "code",
   "execution_count": 113,
   "id": "bd065f46",
   "metadata": {},
   "outputs": [
    {
     "data": {
      "text/plain": [
       "(102058, 23)"
      ]
     },
     "execution_count": 113,
     "metadata": {},
     "output_type": "execute_result"
    }
   ],
   "source": [
    "df.shape#(3 columns removed ,541 duplicate records removed)"
   ]
  },
  {
   "cell_type": "code",
   "execution_count": null,
   "id": "566c9ae5",
   "metadata": {},
   "outputs": [],
   "source": []
  }
 ],
 "metadata": {
  "kernelspec": {
   "display_name": "Python 3 (ipykernel)",
   "language": "python",
   "name": "python3"
  },
  "language_info": {
   "codemirror_mode": {
    "name": "ipython",
    "version": 3
   },
   "file_extension": ".py",
   "mimetype": "text/x-python",
   "name": "python",
   "nbconvert_exporter": "python",
   "pygments_lexer": "ipython3",
   "version": "3.9.12"
  }
 },
 "nbformat": 4,
 "nbformat_minor": 5
}
